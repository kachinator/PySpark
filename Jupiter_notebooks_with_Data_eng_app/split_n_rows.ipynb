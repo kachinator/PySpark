{
 "cells": [
  {
   "cell_type": "code",
   "execution_count": 1,
   "metadata": {},
   "outputs": [
    {
     "name": "stderr",
     "output_type": "stream",
     "text": [
      "WARNING: Using incubator modules: jdk.incubator.vector\n",
      "Using Spark's default log4j profile: org/apache/spark/log4j2-defaults.properties\n",
      "25/08/09 19:33:53 WARN Utils: Your hostname, javier-ubuntu, resolves to a loopback address: 127.0.1.1; using 172.17.0.1 instead (on interface docker0)\n",
      "25/08/09 19:33:53 WARN Utils: Set SPARK_LOCAL_IP if you need to bind to another address\n",
      "Using Spark's default log4j profile: org/apache/spark/log4j2-defaults.properties\n",
      "Setting default log level to \"WARN\".\n",
      "To adjust logging level use sc.setLogLevel(newLevel). For SparkR, use setLogLevel(newLevel).\n",
      "25/08/09 19:33:54 WARN NativeCodeLoader: Unable to load native-hadoop library for your platform... using builtin-java classes where applicable\n",
      "25/08/09 19:33:54 WARN Utils: Service 'SparkUI' could not bind on port 4040. Attempting port 4041.\n",
      "25/08/09 19:33:54 WARN Utils: Service 'SparkUI' could not bind on port 4041. Attempting port 4042.\n",
      "                                                                                \r"
     ]
    },
    {
     "name": "stdout",
     "output_type": "stream",
     "text": [
      "+------+-------------+\n",
      "| Brand|      Product|\n",
      "+------+-------------+\n",
      "|   one|       Laptop|\n",
      "|   two|        Mouse|\n",
      "| three|     Keyboard|\n",
      "|  four|      Monitor|\n",
      "|  five|          HDD|\n",
      "|   six|Graphics Card|\n",
      "| seven|  Motherboard|\n",
      "| eigth|  Motherboard|\n",
      "|  nine|      Cabinet|\n",
      "|   ten|          RAM|\n",
      "|eleven|          SSD|\n",
      "|twelve|   DVD Writer|\n",
      "+------+-------------+\n",
      "\n"
     ]
    }
   ],
   "source": [
    "from pyspark.sql import SparkSession\n",
    "  \n",
    "spark = SparkSession.builder.appName('split_dataframe').getOrCreate()\n",
    "  \n",
    "columns = [\"Brand\", \"Product\"]\n",
    "  \n",
    "data = [(\"one\", \"Laptop\"),\n",
    "        (\"two\", \"Mouse\"),\n",
    "        (\"three\", \"Keyboard\"),\n",
    "        (\"four\", \"Monitor\"),\n",
    "        (\"five\", \"HDD\"),\n",
    "        (\"six\", \"Graphics Card\"),\n",
    "        (\"seven\", \"Motherboard\"),\n",
    "        (\"eigth\", \"Motherboard\"),\n",
    "        (\"nine\", \"Cabinet\"),\n",
    "        (\"ten\", \"RAM\"),\n",
    "        (\"eleven\", \"SSD\"),\n",
    "        (\"twelve\", \"DVD Writer\")]\n",
    "  \n",
    "# Create test dataframe \n",
    "test_df = spark.createDataFrame(data=data,\n",
    "                                schema=columns)\n",
    "  \n",
    "test_df.show()"
   ]
  },
  {
   "cell_type": "code",
   "execution_count": 2,
   "metadata": {},
   "outputs": [
    {
     "name": "stdout",
     "output_type": "stream",
     "text": [
      "block size 3\n",
      "+-----+--------+\n",
      "|Brand| Product|\n",
      "+-----+--------+\n",
      "|  one|  Laptop|\n",
      "|  two|   Mouse|\n",
      "|three|Keyboard|\n",
      "+-----+--------+\n",
      "\n",
      "+-----+-------------+\n",
      "|Brand|      Product|\n",
      "+-----+-------------+\n",
      "| four|      Monitor|\n",
      "| five|          HDD|\n",
      "|  six|Graphics Card|\n",
      "+-----+-------------+\n",
      "\n",
      "+-----+-----------+\n",
      "|Brand|    Product|\n",
      "+-----+-----------+\n",
      "|seven|Motherboard|\n",
      "| nine|    Cabinet|\n",
      "|eigth|Motherboard|\n",
      "+-----+-----------+\n",
      "\n",
      "+------+----------+\n",
      "| Brand|   Product|\n",
      "+------+----------+\n",
      "|   ten|       RAM|\n",
      "|twelve|DVD Writer|\n",
      "|eleven|       SSD|\n",
      "+------+----------+\n",
      "\n"
     ]
    }
   ],
   "source": [
    "# Define the number of splits\n",
    "n_splits = 4\n",
    "  \n",
    "# Calculate  rows in each dataframe \n",
    "df_new_len = test_df.count() // n_splits\n",
    "  \n",
    "print(f\"block size {df_new_len}\")\n",
    "    \n",
    "# Iterate for each dataframe\n",
    "i = 0\n",
    "while i < n_splits:\n",
    "    # Get  top `df_new_len` rows\n",
    "    temp_df = test_df.limit(df_new_len)\n",
    "    temp_df.show()\n",
    "    # remove contents fetched for `temp_df`\n",
    "    test_df = test_df.subtract(temp_df)\n",
    "    # split counter\n",
    "    i += 1\n",
    "  "
   ]
  },
  {
   "cell_type": "code",
   "execution_count": null,
   "metadata": {},
   "outputs": [],
   "source": []
  }
 ],
 "metadata": {
  "kernelspec": {
   "display_name": "Python 3",
   "language": "python",
   "name": "python3"
  },
  "language_info": {
   "codemirror_mode": {
    "name": "ipython",
    "version": 3
   },
   "file_extension": ".py",
   "mimetype": "text/x-python",
   "name": "python",
   "nbconvert_exporter": "python",
   "pygments_lexer": "ipython3",
   "version": "3.10.12"
  },
  "orig_nbformat": 4
 },
 "nbformat": 4,
 "nbformat_minor": 2
}
