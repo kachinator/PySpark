{
 "cells": [
  {
   "cell_type": "code",
   "execution_count": 1,
   "metadata": {},
   "outputs": [
    {
     "name": "stderr",
     "output_type": "stream",
     "text": [
      "/usr/local/lib/python3.7/site-packages/pyspark/bin/load-spark-env.sh: line 68: ps: command not found\n",
      "Setting default log level to \"WARN\".\n",
      "To adjust logging level use sc.setLogLevel(newLevel). For SparkR, use setLogLevel(newLevel).\n"
     ]
    },
    {
     "name": "stdout",
     "output_type": "stream",
     "text": [
      "22/12/22 23:32:43 WARN NativeCodeLoader: Unable to load native-hadoop library for your platform... using builtin-java classes where applicable\n",
      "22/12/22 23:32:46 WARN Utils: Service 'SparkUI' could not bind on port 4040. Attempting port 4041.\n",
      "22/12/22 23:32:46 WARN Utils: Service 'SparkUI' could not bind on port 4041. Attempting port 4042.\n",
      "22/12/22 23:32:46 WARN Utils: Service 'SparkUI' could not bind on port 4042. Attempting port 4043.\n"
     ]
    },
    {
     "name": "stderr",
     "output_type": "stream",
     "text": [
      "                                                                                \r"
     ]
    },
    {
     "name": "stdout",
     "output_type": "stream",
     "text": [
      "+------+-------------+\n",
      "| Brand|      Product|\n",
      "+------+-------------+\n",
      "|   one|       Laptop|\n",
      "|   two|        Mouse|\n",
      "| three|     Keyboard|\n",
      "|  four|      Monitor|\n",
      "|  five|          HDD|\n",
      "|   six|Graphics Card|\n",
      "| seven|  Motherboard|\n",
      "| eigth|  Motherboard|\n",
      "|  nine|      Cabinet|\n",
      "|   ten|          RAM|\n",
      "|eleven|          SSD|\n",
      "|twelve|   DVD Writer|\n",
      "+------+-------------+\n",
      "\n"
     ]
    }
   ],
   "source": [
    "import pyspark\n",
    "from pyspark.sql import SparkSession\n",
    "  \n",
    "spark = SparkSession.builder.appName('split_dataframe').getOrCreate()\n",
    "  \n",
    "columns = [\"Brand\", \"Product\"]\n",
    "  \n",
    "data = [(\"one\", \"Laptop\"),\n",
    "        (\"two\", \"Mouse\"),\n",
    "        (\"three\", \"Keyboard\"),\n",
    "        (\"four\", \"Monitor\"),\n",
    "        (\"five\", \"HDD\"),\n",
    "        (\"six\", \"Graphics Card\"),\n",
    "        (\"seven\", \"Motherboard\"),\n",
    "        (\"eigth\", \"Motherboard\"),\n",
    "        (\"nine\", \"Cabinet\"),\n",
    "        (\"ten\", \"RAM\"),\n",
    "        (\"eleven\", \"SSD\"),\n",
    "        (\"twelve\", \"DVD Writer\")]\n",
    "  \n",
    "# Create test dataframe \n",
    "test_df = spark.createDataFrame(data=data,\n",
    "                                schema=columns)\n",
    "  \n",
    "test_df.show()"
   ]
  },
  {
   "cell_type": "code",
   "execution_count": 2,
   "metadata": {},
   "outputs": [
    {
     "name": "stderr",
     "output_type": "stream",
     "text": [
      "                                                                                \r"
     ]
    },
    {
     "name": "stdout",
     "output_type": "stream",
     "text": [
      "block size 3\n",
      "+-----+--------+\n",
      "|Brand| Product|\n",
      "+-----+--------+\n",
      "|  one|  Laptop|\n",
      "|  two|   Mouse|\n",
      "|three|Keyboard|\n",
      "+-----+--------+\n",
      "\n"
     ]
    },
    {
     "name": "stderr",
     "output_type": "stream",
     "text": [
      "                                                                                \r"
     ]
    },
    {
     "name": "stdout",
     "output_type": "stream",
     "text": [
      "+-----+-------------+\n",
      "|Brand|      Product|\n",
      "+-----+-------------+\n",
      "| four|      Monitor|\n",
      "| five|          HDD|\n",
      "|  six|Graphics Card|\n",
      "+-----+-------------+\n",
      "\n",
      "+-----+-----------+\n",
      "|Brand|    Product|\n",
      "+-----+-----------+\n",
      "|seven|Motherboard|\n",
      "| nine|    Cabinet|\n",
      "|eigth|Motherboard|\n",
      "+-----+-----------+\n",
      "\n",
      "+------+----------+\n",
      "| Brand|   Product|\n",
      "+------+----------+\n",
      "|   ten|       RAM|\n",
      "|twelve|DVD Writer|\n",
      "|eleven|       SSD|\n",
      "+------+----------+\n",
      "\n"
     ]
    }
   ],
   "source": [
    "# Define the number of splits\n",
    "n_splits = 4\n",
    "  \n",
    "# Calculate  rows in each dataframe \n",
    "df_new_len = test_df.count() // n_splits\n",
    "  \n",
    "print(f\"block size {df_new_len}\")\n",
    "    \n",
    "# Iterate for each dataframe\n",
    "i = 0\n",
    "while i < n_splits:\n",
    "    # Get  top `df_new_len` rows\n",
    "    temp_df = test_df.limit(df_new_len)\n",
    "    temp_df.show()\n",
    "    # remove contents fetched for `temp_df`\n",
    "    test_df = test_df.subtract(temp_df)\n",
    "    # split counter\n",
    "    i += 1\n",
    "  "
   ]
  },
  {
   "cell_type": "code",
   "execution_count": null,
   "metadata": {},
   "outputs": [],
   "source": []
  }
 ],
 "metadata": {
  "kernelspec": {
   "display_name": "Python 3.7.10 64-bit",
   "language": "python",
   "name": "python3"
  },
  "language_info": {
   "codemirror_mode": {
    "name": "ipython",
    "version": 3
   },
   "file_extension": ".py",
   "mimetype": "text/x-python",
   "name": "python",
   "nbconvert_exporter": "python",
   "pygments_lexer": "ipython3",
   "version": "3.7.10"
  },
  "orig_nbformat": 4,
  "vscode": {
   "interpreter": {
    "hash": "949777d72b0d2535278d3dc13498b2535136f6dfe0678499012e853ee9abcab1"
   }
  }
 },
 "nbformat": 4,
 "nbformat_minor": 2
}
