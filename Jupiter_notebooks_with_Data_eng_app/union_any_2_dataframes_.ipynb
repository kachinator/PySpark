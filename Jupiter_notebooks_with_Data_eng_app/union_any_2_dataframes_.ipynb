{
 "cells": [
  {
   "cell_type": "code",
   "execution_count": 1,
   "metadata": {},
   "outputs": [
    {
     "name": "stderr",
     "output_type": "stream",
     "text": [
      "WARNING: Using incubator modules: jdk.incubator.vector\n",
      "Using Spark's default log4j profile: org/apache/spark/log4j2-defaults.properties\n",
      "25/08/10 15:31:09 WARN Utils: Your hostname, javier-ubuntu, resolves to a loopback address: 127.0.1.1; using 10.0.0.205 instead (on interface wlx0013eff3e14d)\n",
      "25/08/10 15:31:09 WARN Utils: Set SPARK_LOCAL_IP if you need to bind to another address\n",
      "Using Spark's default log4j profile: org/apache/spark/log4j2-defaults.properties\n",
      "Setting default log level to \"WARN\".\n",
      "To adjust logging level use sc.setLogLevel(newLevel). For SparkR, use setLogLevel(newLevel).\n",
      "25/08/10 15:31:10 WARN NativeCodeLoader: Unable to load native-hadoop library for your platform... using builtin-java classes where applicable\n",
      "25/08/10 15:31:10 WARN Utils: Service 'SparkUI' could not bind on port 4040. Attempting port 4041.\n",
      "25/08/10 15:31:10 WARN Utils: Service 'SparkUI' could not bind on port 4041. Attempting port 4042.\n"
     ]
    },
    {
     "name": "stdout",
     "output_type": "stream",
     "text": [
      "root\n",
      " |-- employee_name: string (nullable = true)\n",
      " |-- department: string (nullable = true)\n",
      " |-- state: string (nullable = true)\n",
      " |-- salary: long (nullable = true)\n",
      " |-- age: long (nullable = true)\n",
      " |-- bonus: long (nullable = true)\n",
      " |-- afilliation: string (nullable = true)\n",
      "\n"
     ]
    },
    {
     "name": "stderr",
     "output_type": "stream",
     "text": [
      "                                                                                \r"
     ]
    },
    {
     "name": "stdout",
     "output_type": "stream",
     "text": [
      "+-------------+----------+-----+------+---+-----+-----------+\n",
      "|employee_name|department|state|salary|age|bonus|afilliation|\n",
      "+-------------+----------+-----+------+---+-----+-----------+\n",
      "|James        |Sales     |NY   |90000 |34 |10000|R          |\n",
      "|Michael      |Sales     |NY   |86000 |56 |20000|D          |\n",
      "|Robert       |Sales     |CA   |81000 |30 |23000|R          |\n",
      "|Maria        |Finance   |CA   |90000 |24 |23000|D          |\n",
      "|Jen          |Finance   |NY   |79000 |53 |15000|R          |\n",
      "|Jeff         |Marketing |CA   |80000 |25 |18000|L          |\n",
      "|Kumar        |Marketing |NY   |91000 |50 |21000|R          |\n",
      "+-------------+----------+-----+------+---+-----+-----------+\n",
      "\n"
     ]
    }
   ],
   "source": [
    "import pyspark\n",
    "from pyspark.sql import SparkSession\n",
    "\n",
    "spark = SparkSession.builder.appName('Union').getOrCreate()\n",
    "\n",
    "simpleData = [(\"James\",\"Sales\",\"NY\",90000,34,10000, \"R\"), \\\n",
    "              (\"Michael\",\"Sales\",\"NY\",86000,56,20000, \"D\"), \\\n",
    "              (\"Robert\",\"Sales\",\"CA\",81000,30,23000, \"R\"), \\\n",
    "              (\"Maria\",\"Finance\",\"CA\",90000,24,23000, \"D\"), \\\n",
    "              (\"Jen\",\"Finance\",\"NY\",79000,53,15000, \"R\"), \\\n",
    "              (\"Jeff\",\"Marketing\",\"CA\",80000,25,18000, \"L\"), \\\n",
    "              (\"Kumar\",\"Marketing\",\"NY\",91000,50,21000, \"R\")  \n",
    "  ]\n",
    "\n",
    "columns= [\"employee_name\",\"department\",\"state\",\"salary\",\"age\",\"bonus\",\"afilliation\"]\n",
    "df_full = spark.createDataFrame(data = simpleData, schema = columns)\n",
    "df_full.printSchema()\n",
    "df_full.show(truncate=False)"
   ]
  },
  {
   "cell_type": "code",
   "execution_count": 2,
   "metadata": {},
   "outputs": [
    {
     "name": "stdout",
     "output_type": "stream",
     "text": [
      "+-------------+----------+-----+------+---+\n",
      "|employee_name|department|state|salary|age|\n",
      "+-------------+----------+-----+------+---+\n",
      "|        James|     Sales|   NY| 90000| 34|\n",
      "|      Michael|     Sales|   NY| 86000| 56|\n",
      "|       Robert|     Sales|   CA| 81000| 30|\n",
      "|        Maria|   Finance|   CA| 90000| 24|\n",
      "|          Jen|   Finance|   NY| 79000| 53|\n",
      "|         Jeff| Marketing|   CA| 80000| 25|\n",
      "|        Kumar| Marketing|   NY| 91000| 50|\n",
      "+-------------+----------+-----+------+---+\n",
      "\n"
     ]
    }
   ],
   "source": [
    "regular_df = df_full.select(df_full.columns[0:-2])\n",
    "regular_df.show()"
   ]
  },
  {
   "cell_type": "markdown",
   "metadata": {},
   "source": [
    "Create a smaller set to test union"
   ]
  },
  {
   "cell_type": "code",
   "execution_count": 3,
   "metadata": {},
   "outputs": [
    {
     "name": "stdout",
     "output_type": "stream",
     "text": [
      "+-------------+----------+-----+\n",
      "|employee_name|department|state|\n",
      "+-------------+----------+-----+\n",
      "|        James|     Sales|   NY|\n",
      "|      Michael|     Sales|   NY|\n",
      "|       Robert|     Sales|   CA|\n",
      "|        Maria|   Finance|   CA|\n",
      "|          Jen|   Finance|   NY|\n",
      "|         Jeff| Marketing|   CA|\n",
      "|        Kumar| Marketing|   NY|\n",
      "+-------------+----------+-----+\n",
      "\n"
     ]
    }
   ],
   "source": [
    "smaller_df = df_full.select(df_full.columns[0:-4])\n",
    "smaller_df.show()"
   ]
  },
  {
   "cell_type": "code",
   "execution_count": 4,
   "metadata": {},
   "outputs": [
    {
     "name": "stdout",
     "output_type": "stream",
     "text": [
      "['salary', 'age']\n",
      "[]\n"
     ]
    }
   ],
   "source": [
    "print( list(set(regular_df.columns) - set(smaller_df.columns)))\n",
    "print( list(set(smaller_df.columns) - set(regular_df.columns)))"
   ]
  },
  {
   "cell_type": "code",
   "execution_count": 5,
   "metadata": {},
   "outputs": [
    {
     "name": "stdout",
     "output_type": "stream",
     "text": [
      "[]\n",
      "['afilliation', 'bonus', 'age', 'salary']\n"
     ]
    }
   ],
   "source": [
    "print( list(set(regular_df.columns) - set(df_full.columns)))\n",
    "print( list(set(df_full.columns) - set(smaller_df.columns)))"
   ]
  },
  {
   "cell_type": "code",
   "execution_count": 6,
   "metadata": {},
   "outputs": [
    {
     "name": "stdout",
     "output_type": "stream",
     "text": [
      "['afilliation', 'bonus']\n"
     ]
    }
   ],
   "source": [
    "print( list(set(df_full.columns) - set(regular_df.columns)))"
   ]
  },
  {
   "cell_type": "code",
   "execution_count": 7,
   "metadata": {},
   "outputs": [
    {
     "name": "stdout",
     "output_type": "stream",
     "text": [
      "+-------------+----------+-----+------+----+\n",
      "|employee_name|department|state|salary| age|\n",
      "+-------------+----------+-----+------+----+\n",
      "|        James|     Sales|   NY| 90000|  34|\n",
      "|      Michael|     Sales|   NY| 86000|  56|\n",
      "|       Robert|     Sales|   CA| 81000|  30|\n",
      "|        Maria|   Finance|   CA| 90000|  24|\n",
      "|          Jen|   Finance|   NY| 79000|  53|\n",
      "|         Jeff| Marketing|   CA| 80000|  25|\n",
      "|        Kumar| Marketing|   NY| 91000|  50|\n",
      "|        James|     Sales|   NY|  NULL|NULL|\n",
      "|      Michael|     Sales|   NY|  NULL|NULL|\n",
      "|       Robert|     Sales|   CA|  NULL|NULL|\n",
      "|        Maria|   Finance|   CA|  NULL|NULL|\n",
      "|          Jen|   Finance|   NY|  NULL|NULL|\n",
      "|         Jeff| Marketing|   CA|  NULL|NULL|\n",
      "|        Kumar| Marketing|   NY|  NULL|NULL|\n",
      "+-------------+----------+-----+------+----+\n",
      "\n"
     ]
    }
   ],
   "source": [
    "from pyspark.sql.functions import lit\n",
    "\n",
    "for column in [column for column in regular_df.columns if column not in smaller_df.columns]:\n",
    "    smaller_df = smaller_df.withColumn(column, lit(None))\n",
    "merged_df = regular_df.union(smaller_df)\n",
    "\n",
    "merged_df.show()"
   ]
  },
  {
   "cell_type": "code",
   "execution_count": 8,
   "metadata": {},
   "outputs": [
    {
     "name": "stdout",
     "output_type": "stream",
     "text": [
      "+-------------+----------+-----+------+---+\n",
      "|employee_name|department|state|salary|age|\n",
      "+-------------+----------+-----+------+---+\n",
      "|        James|     Sales|   NY| 90000| 34|\n",
      "|      Michael|     Sales|   NY| 86000| 56|\n",
      "|       Robert|     Sales|   CA| 81000| 30|\n",
      "|        Maria|   Finance|   CA| 90000| 24|\n",
      "|          Jen|   Finance|   NY| 79000| 53|\n",
      "|         Jeff| Marketing|   CA| 80000| 25|\n",
      "|        Kumar| Marketing|   NY| 91000| 50|\n",
      "|        James|     Sales|   NY| 90000| 34|\n",
      "|      Michael|     Sales|   NY| 86000| 56|\n",
      "|       Robert|     Sales|   CA| 81000| 30|\n",
      "|        Maria|   Finance|   CA| 90000| 24|\n",
      "|          Jen|   Finance|   NY| 79000| 53|\n",
      "|         Jeff| Marketing|   CA| 80000| 25|\n",
      "|        Kumar| Marketing|   NY| 91000| 50|\n",
      "+-------------+----------+-----+------+---+\n",
      "\n"
     ]
    }
   ],
   "source": [
    "merged2_df = regular_df.union(df_full.select(regular_df.columns))\n",
    "\n",
    "merged2_df.show()"
   ]
  },
  {
   "cell_type": "code",
   "execution_count": 9,
   "metadata": {},
   "outputs": [
    {
     "name": "stdout",
     "output_type": "stream",
     "text": [
      "+-------------+----------+-----+------+---+\n",
      "|employee_name|department|state|salary|age|\n",
      "+-------------+----------+-----+------+---+\n",
      "|        James|     Sales|   NY| 90000| 34|\n",
      "|      Michael|     Sales|   NY| 86000| 56|\n",
      "|       Robert|     Sales|   CA| 81000| 30|\n",
      "|        Maria|   Finance|   CA| 90000| 24|\n",
      "|          Jen|   Finance|   NY| 79000| 53|\n",
      "|         Jeff| Marketing|   CA| 80000| 25|\n",
      "|        Kumar| Marketing|   NY| 91000| 50|\n",
      "+-------------+----------+-----+------+---+\n",
      "\n"
     ]
    }
   ],
   "source": [
    "regular_df.show()"
   ]
  },
  {
   "cell_type": "code",
   "execution_count": 10,
   "metadata": {},
   "outputs": [],
   "source": [
    "def multi_column_union(df1:pyspark.sql.dataframe.DataFrame, df2:pyspark.sql.dataframe.DataFrame) -> pyspark.sql.dataframe.DataFrame:\n",
    "    s1 = set(df1.columns)\n",
    "    s2 = set(df2.columns)\n",
    "    l1 = list(s1 - s2)\n",
    "    l2 = list(s2 - s1)\n",
    "\n",
    "    if(len(df2.columns)==0):\n",
    "        return df1\n",
    "\n",
    "    if (len(l1 + l2 )) == 0:\n",
    "        return df1.union(df2)\n",
    "\n",
    "    elif ((len(l1) > 0) & (len(l2 ) == 0)):\n",
    "        from pyspark.sql.functions import lit\n",
    "        for column in [column for column in df1.columns if column not in df2.columns]:\n",
    "            df2 = df2.withColumn(column, lit(None))\n",
    "        return df1.union(df2)\n",
    "        \n",
    "    elif ((len(l1) == 0) & (len(l2 ) > 0)):\n",
    "        return df1.union(df2.select(df1.columns))\n",
    "    \n",
    "    else:\n",
    "        return df1\n"
   ]
  },
  {
   "cell_type": "code",
   "execution_count": 11,
   "metadata": {},
   "outputs": [
    {
     "name": "stdout",
     "output_type": "stream",
     "text": [
      "+-------------+----------+-----+------+---+\n",
      "|employee_name|department|state|salary|age|\n",
      "+-------------+----------+-----+------+---+\n",
      "|        James|     Sales|   NY| 90000| 34|\n",
      "|      Michael|     Sales|   NY| 86000| 56|\n",
      "|       Robert|     Sales|   CA| 81000| 30|\n",
      "|        Maria|   Finance|   CA| 90000| 24|\n",
      "|          Jen|   Finance|   NY| 79000| 53|\n",
      "|         Jeff| Marketing|   CA| 80000| 25|\n",
      "|        Kumar| Marketing|   NY| 91000| 50|\n",
      "|        James|     Sales|   NY| 90000| 34|\n",
      "|      Michael|     Sales|   NY| 86000| 56|\n",
      "|       Robert|     Sales|   CA| 81000| 30|\n",
      "|        Maria|   Finance|   CA| 90000| 24|\n",
      "|          Jen|   Finance|   NY| 79000| 53|\n",
      "|         Jeff| Marketing|   CA| 80000| 25|\n",
      "|        Kumar| Marketing|   NY| 91000| 50|\n",
      "+-------------+----------+-----+------+---+\n",
      "\n"
     ]
    }
   ],
   "source": [
    "kk = multi_column_union(regular_df, regular_df)\n",
    "kk.show()"
   ]
  },
  {
   "cell_type": "code",
   "execution_count": 12,
   "metadata": {},
   "outputs": [
    {
     "name": "stdout",
     "output_type": "stream",
     "text": [
      "+-------------+----------+-----+------+----+\n",
      "|employee_name|department|state|salary| age|\n",
      "+-------------+----------+-----+------+----+\n",
      "|        James|     Sales|   NY| 90000|  34|\n",
      "|      Michael|     Sales|   NY| 86000|  56|\n",
      "|       Robert|     Sales|   CA| 81000|  30|\n",
      "|        Maria|   Finance|   CA| 90000|  24|\n",
      "|          Jen|   Finance|   NY| 79000|  53|\n",
      "|         Jeff| Marketing|   CA| 80000|  25|\n",
      "|        Kumar| Marketing|   NY| 91000|  50|\n",
      "|        James|     Sales|   NY|  NULL|NULL|\n",
      "|      Michael|     Sales|   NY|  NULL|NULL|\n",
      "|       Robert|     Sales|   CA|  NULL|NULL|\n",
      "|        Maria|   Finance|   CA|  NULL|NULL|\n",
      "|          Jen|   Finance|   NY|  NULL|NULL|\n",
      "|         Jeff| Marketing|   CA|  NULL|NULL|\n",
      "|        Kumar| Marketing|   NY|  NULL|NULL|\n",
      "+-------------+----------+-----+------+----+\n",
      "\n"
     ]
    }
   ],
   "source": [
    "kk = multi_column_union(regular_df, df_full.select(df_full.columns[0:-4]))\n",
    "kk.show()"
   ]
  },
  {
   "cell_type": "code",
   "execution_count": 13,
   "metadata": {},
   "outputs": [
    {
     "name": "stdout",
     "output_type": "stream",
     "text": [
      "+-------------+----------+-----+------+---+\n",
      "|employee_name|department|state|salary|age|\n",
      "+-------------+----------+-----+------+---+\n",
      "|        James|     Sales|   NY| 90000| 34|\n",
      "|      Michael|     Sales|   NY| 86000| 56|\n",
      "|       Robert|     Sales|   CA| 81000| 30|\n",
      "|        Maria|   Finance|   CA| 90000| 24|\n",
      "|          Jen|   Finance|   NY| 79000| 53|\n",
      "|         Jeff| Marketing|   CA| 80000| 25|\n",
      "|        Kumar| Marketing|   NY| 91000| 50|\n",
      "|        James|     Sales|   NY| 90000| 34|\n",
      "|      Michael|     Sales|   NY| 86000| 56|\n",
      "|       Robert|     Sales|   CA| 81000| 30|\n",
      "|        Maria|   Finance|   CA| 90000| 24|\n",
      "|          Jen|   Finance|   NY| 79000| 53|\n",
      "|         Jeff| Marketing|   CA| 80000| 25|\n",
      "|        Kumar| Marketing|   NY| 91000| 50|\n",
      "+-------------+----------+-----+------+---+\n",
      "\n"
     ]
    }
   ],
   "source": [
    "kk = multi_column_union(regular_df, df_full)\n",
    "kk.show()"
   ]
  },
  {
   "cell_type": "code",
   "execution_count": 14,
   "metadata": {},
   "outputs": [
    {
     "name": "stdout",
     "output_type": "stream",
     "text": [
      "++\n",
      "||\n",
      "++\n",
      "||\n",
      "||\n",
      "||\n",
      "||\n",
      "||\n",
      "||\n",
      "||\n",
      "++\n",
      "\n"
     ]
    }
   ],
   "source": [
    "df_full.select(df_full.columns[0:-8]).show()"
   ]
  },
  {
   "cell_type": "code",
   "execution_count": 15,
   "metadata": {},
   "outputs": [
    {
     "name": "stdout",
     "output_type": "stream",
     "text": [
      "+-------------+----------+-----+------+---+\n",
      "|employee_name|department|state|salary|age|\n",
      "+-------------+----------+-----+------+---+\n",
      "|        James|     Sales|   NY| 90000| 34|\n",
      "|      Michael|     Sales|   NY| 86000| 56|\n",
      "|       Robert|     Sales|   CA| 81000| 30|\n",
      "|        Maria|   Finance|   CA| 90000| 24|\n",
      "|          Jen|   Finance|   NY| 79000| 53|\n",
      "|         Jeff| Marketing|   CA| 80000| 25|\n",
      "|        Kumar| Marketing|   NY| 91000| 50|\n",
      "+-------------+----------+-----+------+---+\n",
      "\n"
     ]
    }
   ],
   "source": [
    "kk = multi_column_union(regular_df, df_full.select(df_full.columns[0:-8]))\n",
    "kk.show()"
   ]
  },
  {
   "cell_type": "code",
   "execution_count": null,
   "metadata": {},
   "outputs": [],
   "source": []
  }
 ],
 "metadata": {
  "kernelspec": {
   "display_name": "Python 3",
   "language": "python",
   "name": "python3"
  },
  "language_info": {
   "codemirror_mode": {
    "name": "ipython",
    "version": 3
   },
   "file_extension": ".py",
   "mimetype": "text/x-python",
   "name": "python",
   "nbconvert_exporter": "python",
   "pygments_lexer": "ipython3",
   "version": "3.10.12"
  },
  "orig_nbformat": 4
 },
 "nbformat": 4,
 "nbformat_minor": 2
}
