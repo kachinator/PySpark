{
 "cells": [
  {
   "cell_type": "code",
   "execution_count": 1,
   "metadata": {},
   "outputs": [
    {
     "name": "stderr",
     "output_type": "stream",
     "text": [
      "WARNING: Using incubator modules: jdk.incubator.vector\n",
      "Using Spark's default log4j profile: org/apache/spark/log4j2-defaults.properties\n",
      "25/08/08 18:23:08 WARN Utils: Your hostname, javier-ubuntu, resolves to a loopback address: 127.0.1.1; using 172.17.0.1 instead (on interface docker0)\n",
      "25/08/08 18:23:08 WARN Utils: Set SPARK_LOCAL_IP if you need to bind to another address\n",
      "Using Spark's default log4j profile: org/apache/spark/log4j2-defaults.properties\n",
      "Setting default log level to \"WARN\".\n",
      "To adjust logging level use sc.setLogLevel(newLevel). For SparkR, use setLogLevel(newLevel).\n",
      "25/08/08 18:23:08 WARN NativeCodeLoader: Unable to load native-hadoop library for your platform... using builtin-java classes where applicable\n",
      "25/08/08 18:23:09 WARN Utils: Service 'SparkUI' could not bind on port 4040. Attempting port 4041.\n"
     ]
    },
    {
     "name": "stdout",
     "output_type": "stream",
     "text": [
      "root\n",
      " |-- id: string (nullable = true)\n",
      " |-- rate: string (nullable = true)\n",
      " |-- Deal_id: string (nullable = true)\n",
      " |-- PropertyName: string (nullable = true)\n",
      "\n"
     ]
    },
    {
     "name": "stderr",
     "output_type": "stream",
     "text": [
      "                                                                                \r"
     ]
    },
    {
     "name": "stdout",
     "output_type": "stream",
     "text": [
      "+-----+-----+-------+--------------------+\n",
      "|   id| rate|Deal_id|        PropertyName|\n",
      "+-----+-----+-------+--------------------+\n",
      "| 6119|6.81%|    377|            Red Roof|\n",
      "| 996b| NULL|    909|                NULL|\n",
      "| e3d9|5.17%|    809|    Lisle Apartments|\n",
      "|cd304|4.58%|    209|  Wesmont Apartments|\n",
      "| b5bd|6.87%|    277|      Smith Crossing|\n",
      "| 06f3| NULL|    963|Enterprise - West...|\n",
      "| 8956| NULL|    963|Enterprise - Lombard|\n",
      "| 8432| 6.6%|    963|                NULL|\n",
      "| 8ed5| NULL|    377|                NULL|\n",
      "+-----+-----+-------+--------------------+\n",
      "\n"
     ]
    }
   ],
   "source": [
    "from pyspark.sql import SparkSession,Row\n",
    "from termcolor import cprint\n",
    "\n",
    "spark = SparkSession.builder.appName('lineage_data').getOrCreate()\n",
    "\n",
    "\n",
    "data = [\n",
    " Row(id='6119', rate='6.81%',   Deal_id='377', PropertyName='Red Roof'),\n",
    " Row(id='996b', rate=None,   Deal_id='909', PropertyName=None),\n",
    " Row(id='e3d9', rate='5.17%',   Deal_id='809', PropertyName='Lisle Apartments'),\n",
    " Row(id='cd304', rate='4.58%',   Deal_id='209', PropertyName='Wesmont Apartments'),\n",
    " Row(id='b5bd', rate='6.87%',   Deal_id='277', PropertyName='Smith Crossing'),\n",
    " Row(id='06f3', rate=None,   Deal_id='963', PropertyName='Enterprise - West Chicago'),\n",
    " Row(id='8956', rate=None,   Deal_id='963', PropertyName='Enterprise - Lombard'),\n",
    " Row(id='8432', rate='6.6%',   Deal_id='963', PropertyName=None),\n",
    " Row(id='8ed5', rate=None,   Deal_id='377', PropertyName=None)]\n",
    "\n",
    "\n",
    "df=spark.createDataFrame(data)\n",
    "df.printSchema()\n",
    "df.show()\n"
   ]
  },
  {
   "cell_type": "code",
   "execution_count": 2,
   "metadata": {},
   "outputs": [
    {
     "name": "stderr",
     "output_type": "stream",
     "text": [
      "25/08/08 18:23:15 WARN FunctionResolution: Two-parameter TRIM/LTRIM/RTRIM function signatures are deprecated. Use SQL syntax `TRIM((BOTH | LEADING | TRAILING)? trimStr FROM str)` instead.\n"
     ]
    }
   ],
   "source": [
    "from pyspark.sql.types import DoubleType\n",
    "from pyspark.sql import functions as F\n",
    "\n",
    "df = df.withColumn('rate_double', F.expr(\"rtrim('%', rtrim(rate))\").cast(DoubleType()))"
   ]
  },
  {
   "cell_type": "code",
   "execution_count": 3,
   "metadata": {},
   "outputs": [
    {
     "name": "stdout",
     "output_type": "stream",
     "text": [
      "+-----+-----+-------+--------------------+-----------+\n",
      "|   id| rate|Deal_id|        PropertyName|rate_double|\n",
      "+-----+-----+-------+--------------------+-----------+\n",
      "| 6119|6.81%|    377|            Red Roof|       6.81|\n",
      "| 996b| NULL|    909|                NULL|       NULL|\n",
      "| e3d9|5.17%|    809|    Lisle Apartments|       5.17|\n",
      "|cd304|4.58%|    209|  Wesmont Apartments|       4.58|\n",
      "| b5bd|6.87%|    277|      Smith Crossing|       6.87|\n",
      "| 06f3| NULL|    963|Enterprise - West...|       NULL|\n",
      "| 8956| NULL|    963|Enterprise - Lombard|       NULL|\n",
      "| 8432| 6.6%|    963|                NULL|        6.6|\n",
      "| 8ed5| NULL|    377|                NULL|       NULL|\n",
      "+-----+-----+-------+--------------------+-----------+\n",
      "\n"
     ]
    }
   ],
   "source": [
    "df.show()"
   ]
  },
  {
   "cell_type": "code",
   "execution_count": null,
   "metadata": {},
   "outputs": [],
   "source": []
  }
 ],
 "metadata": {
  "kernelspec": {
   "display_name": "Python 3",
   "language": "python",
   "name": "python3"
  },
  "language_info": {
   "codemirror_mode": {
    "name": "ipython",
    "version": 3
   },
   "file_extension": ".py",
   "mimetype": "text/x-python",
   "name": "python",
   "nbconvert_exporter": "python",
   "pygments_lexer": "ipython3",
   "version": "3.10.12"
  },
  "orig_nbformat": 4
 },
 "nbformat": 4,
 "nbformat_minor": 2
}
