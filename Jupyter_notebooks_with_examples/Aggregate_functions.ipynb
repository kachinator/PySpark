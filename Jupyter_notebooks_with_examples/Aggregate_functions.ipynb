{
 "cells": [
  {
   "cell_type": "markdown",
   "id": "90559435",
   "metadata": {},
   "source": [
    "## Aggregate Functions\n",
    "let’s create a DataFrame to work with PySpark aggregate functions"
   ]
  },
  {
   "cell_type": "code",
   "execution_count": 82,
   "id": "094b64fa",
   "metadata": {},
   "outputs": [
    {
     "name": "stdout",
     "output_type": "stream",
     "text": [
      "root\n",
      " |-- employee_name: string (nullable = true)\n",
      " |-- department: string (nullable = true)\n",
      " |-- salary: long (nullable = true)\n",
      "\n",
      "+-------------+----------+------+\n",
      "|employee_name|department|salary|\n",
      "+-------------+----------+------+\n",
      "|Greg         |Sales     |13000 |\n",
      "|Michael      |Sales     |14600 |\n",
      "|Robert       |Sales     |14100 |\n",
      "|Martha       |HR        |13000 |\n",
      "|James        |Sales     |13000 |\n",
      "|Scott        |Finance   |13300 |\n",
      "|Jen          |Marketing |13900 |\n",
      "|Jeff         |Marketing |13000 |\n",
      "|Manny        |Finance   |12000 |\n",
      "|James        |Sales     |14100 |\n",
      "+-------------+----------+------+\n",
      "\n"
     ]
    }
   ],
   "source": [
    "from pyspark.sql import SparkSession\n",
    "from pyspark.sql.functions import approx_count_distinct,collect_list\n",
    "from pyspark.sql.functions import collect_set,sum,avg,max,countDistinct,count\n",
    "from pyspark.sql.functions import first, last, kurtosis, min, mean, skewness \n",
    "from pyspark.sql.functions import stddev, stddev_samp, stddev_pop, sumDistinct\n",
    "from pyspark.sql.functions import variance,var_samp,  var_pop\n",
    "\n",
    "spark = SparkSession.builder.appName(\"aggregate\").getOrCreate()\n",
    "\n",
    "\n",
    "simpleData = [(\"Greg\", \"Sales\", 13000),\n",
    "    (\"Michael\", \"Sales\", 14600),\n",
    "    (\"Robert\", \"Sales\", 14100),\n",
    "    (\"Martha\", \"HR\", 13000),\n",
    "    (\"James\", \"Sales\", 13000),\n",
    "    (\"Scott\", \"Finance\", 13300),\n",
    "    (\"Jen\", \"Marketing\", 13900),\n",
    "    (\"Jeff\", \"Marketing\", 13000),\n",
    "    (\"Manny\", \"Finance\", 12000),\n",
    "    (\"James\", \"Sales\", 14100)\n",
    "  ]\n",
    "schema = [\"employee_name\", \"department\", \"salary\"]\n",
    "df = spark.createDataFrame(data=simpleData, schema = schema)\n",
    "df.printSchema()\n",
    "df.show(truncate=False)"
   ]
  },
  {
   "cell_type": "markdown",
   "id": "1918dc5c",
   "metadata": {},
   "source": [
    "### approx_count_distinct()\n",
    " `approx_count_distinct()` function returns the count of distinct items in a group"
   ]
  },
  {
   "cell_type": "code",
   "execution_count": 83,
   "id": "a51c3619",
   "metadata": {},
   "outputs": [
    {
     "name": "stdout",
     "output_type": "stream",
     "text": [
      "approx_count_distinct:  6\n"
     ]
    }
   ],
   "source": [
    "print(f\"approx_count_distinct:  {str(df.select(approx_count_distinct('salary')).collect()[0][0])}\")"
   ]
  },
  {
   "cell_type": "markdown",
   "id": "9ff235c0",
   "metadata": {},
   "source": [
    "### avg (average)\n",
    "`avg()` function returns the average of values in the input column"
   ]
  },
  {
   "cell_type": "code",
   "execution_count": 84,
   "id": "deb54c42",
   "metadata": {},
   "outputs": [
    {
     "name": "stdout",
     "output_type": "stream",
     "text": [
      "avg: 13400.0\n"
     ]
    }
   ],
   "source": [
    "print(f\"avg: {str(df.select(avg('salary')).collect()[0][0])}\")"
   ]
  },
  {
   "cell_type": "markdown",
   "id": "7a9e76ec",
   "metadata": {},
   "source": [
    "### collect_list\n",
    "`collect_list()` function returns all values from an input column with duplicates."
   ]
  },
  {
   "cell_type": "code",
   "execution_count": 85,
   "id": "56456ad1",
   "metadata": {},
   "outputs": [
    {
     "name": "stdout",
     "output_type": "stream",
     "text": [
      "+----------------------------------------------------------------------+\n",
      "|collect_list(salary)                                                  |\n",
      "+----------------------------------------------------------------------+\n",
      "|[13000, 14600, 14100, 13000, 13000, 13300, 13900, 13000, 12000, 14100]|\n",
      "+----------------------------------------------------------------------+\n",
      "\n"
     ]
    }
   ],
   "source": [
    "df.select(collect_list(\"salary\")).show(truncate=False)"
   ]
  },
  {
   "cell_type": "markdown",
   "id": "8bceaba6",
   "metadata": {},
   "source": [
    "### collect_set\n",
    "`collect_set()` function returns all values from an input column with duplicate values eliminated."
   ]
  },
  {
   "cell_type": "code",
   "execution_count": 86,
   "id": "075c7c6e",
   "metadata": {},
   "outputs": [
    {
     "name": "stdout",
     "output_type": "stream",
     "text": [
      "+------------------------------------------+\n",
      "|collect_set(salary)                       |\n",
      "+------------------------------------------+\n",
      "|[12000, 13300, 14100, 13000, 14600, 13900]|\n",
      "+------------------------------------------+\n",
      "\n"
     ]
    }
   ],
   "source": [
    "df.select(collect_set(\"salary\")).show(truncate=False)"
   ]
  },
  {
   "cell_type": "markdown",
   "id": "8e12b4b6",
   "metadata": {},
   "source": [
    "### countDistinct\n",
    "`countDistinct()` function returns the number of distinct elements in a columns"
   ]
  },
  {
   "cell_type": "code",
   "execution_count": 87,
   "id": "c7ffbab6",
   "metadata": {},
   "outputs": [
    {
     "name": "stdout",
     "output_type": "stream",
     "text": [
      "+----------------------------------+\n",
      "|count(DISTINCT department, salary)|\n",
      "+----------------------------------+\n",
      "|8                                 |\n",
      "+----------------------------------+\n",
      "\n",
      "Distinct Count of Department & Salary: 8\n"
     ]
    }
   ],
   "source": [
    "df2 = df.select(countDistinct(\"department\", \"salary\"))\n",
    "df2.show(truncate=False)\n",
    "print(f\"Distinct Count of Department & Salary: {str(df2.collect()[0][0])}\")"
   ]
  },
  {
   "cell_type": "markdown",
   "id": "bfff24f3",
   "metadata": {},
   "source": [
    "### count\n",
    "`count()` function returns number of elements in a column."
   ]
  },
  {
   "cell_type": "code",
   "execution_count": 88,
   "id": "d03e85d6",
   "metadata": {},
   "outputs": [
    {
     "name": "stdout",
     "output_type": "stream",
     "text": [
      "count: Row(count(salary)=10)\n"
     ]
    }
   ],
   "source": [
    "print(f\"count: {str(df.select(count('salary')).collect()[0])}\")"
   ]
  },
  {
   "cell_type": "markdown",
   "id": "2b05ad25",
   "metadata": {},
   "source": [
    "### first\n",
    "`first()` function returns the first element in a column when ignoreNulls is set to true, it returns the first non-null element."
   ]
  },
  {
   "cell_type": "code",
   "execution_count": 89,
   "id": "81ab5707",
   "metadata": {},
   "outputs": [
    {
     "name": "stdout",
     "output_type": "stream",
     "text": [
      "+-------------+\n",
      "|first(salary)|\n",
      "+-------------+\n",
      "|13000        |\n",
      "+-------------+\n",
      "\n"
     ]
    }
   ],
   "source": [
    "df.select(first(\"salary\")).show(truncate=False)"
   ]
  },
  {
   "cell_type": "markdown",
   "id": "3a987aa3",
   "metadata": {},
   "source": [
    "### last \n",
    "`last()` function returns the last element in a column. when ignoreNulls is set to true, it returns the last non-null element."
   ]
  },
  {
   "cell_type": "code",
   "execution_count": 90,
   "id": "8aefa4ec",
   "metadata": {},
   "outputs": [
    {
     "name": "stdout",
     "output_type": "stream",
     "text": [
      "+------------+\n",
      "|last(salary)|\n",
      "+------------+\n",
      "|14100       |\n",
      "+------------+\n",
      "\n"
     ]
    }
   ],
   "source": [
    "df.select(last(\"salary\")).show(truncate=False)"
   ]
  },
  {
   "cell_type": "markdown",
   "id": "49419430",
   "metadata": {},
   "source": [
    "### kurtosis \n",
    "`kurtosis()` function returns the kurtosis of the values in a group."
   ]
  },
  {
   "cell_type": "code",
   "execution_count": 91,
   "id": "07c7929b",
   "metadata": {},
   "outputs": [
    {
     "name": "stdout",
     "output_type": "stream",
     "text": [
      "+-------------------+\n",
      "|kurtosis(salary)   |\n",
      "+-------------------+\n",
      "|-0.6467803030303032|\n",
      "+-------------------+\n",
      "\n"
     ]
    }
   ],
   "source": [
    "df.select(kurtosis(\"salary\")).show(truncate=False)"
   ]
  },
  {
   "cell_type": "markdown",
   "id": "1b4f477f",
   "metadata": {},
   "source": [
    "### max \n",
    "`max()` function returns the maximum value in a column."
   ]
  },
  {
   "cell_type": "code",
   "execution_count": 92,
   "id": "af8557e0",
   "metadata": {},
   "outputs": [
    {
     "name": "stdout",
     "output_type": "stream",
     "text": [
      "+-----------+\n",
      "|max(salary)|\n",
      "+-----------+\n",
      "|14600      |\n",
      "+-----------+\n",
      "\n"
     ]
    }
   ],
   "source": [
    "df.select(max(\"salary\")).show(truncate=False)"
   ]
  },
  {
   "cell_type": "markdown",
   "id": "e8b383a4",
   "metadata": {},
   "source": [
    "### min \n",
    "`min()` function"
   ]
  },
  {
   "cell_type": "code",
   "execution_count": 93,
   "id": "30aa229a",
   "metadata": {},
   "outputs": [
    {
     "name": "stdout",
     "output_type": "stream",
     "text": [
      "+-----------+\n",
      "|min(salary)|\n",
      "+-----------+\n",
      "|12000      |\n",
      "+-----------+\n",
      "\n"
     ]
    }
   ],
   "source": [
    "df.select(min(\"salary\")).show(truncate=False)"
   ]
  },
  {
   "cell_type": "markdown",
   "id": "be1dde65",
   "metadata": {},
   "source": [
    "### mean \n",
    "`mean()` function returns the average of the values in a column. Alias for Avg"
   ]
  },
  {
   "cell_type": "code",
   "execution_count": 94,
   "id": "c4d05be9",
   "metadata": {},
   "outputs": [
    {
     "name": "stdout",
     "output_type": "stream",
     "text": [
      "+-----------+\n",
      "|avg(salary)|\n",
      "+-----------+\n",
      "|13400.0    |\n",
      "+-----------+\n",
      "\n"
     ]
    }
   ],
   "source": [
    "df.select(mean(\"salary\")).show(truncate=False)"
   ]
  },
  {
   "cell_type": "markdown",
   "id": "99a99040",
   "metadata": {},
   "source": [
    "### skewness \n",
    "`skewness()` function returns the skewness of the values in a group."
   ]
  },
  {
   "cell_type": "code",
   "execution_count": 95,
   "id": "f0f6fd7b",
   "metadata": {},
   "outputs": [
    {
     "name": "stdout",
     "output_type": "stream",
     "text": [
      "+--------------------+\n",
      "|skewness(salary)    |\n",
      "+--------------------+\n",
      "|-0.12041791181069571|\n",
      "+--------------------+\n",
      "\n"
     ]
    }
   ],
   "source": [
    "df.select(skewness(\"salary\")).show(truncate=False)"
   ]
  },
  {
   "cell_type": "markdown",
   "id": "46bbcb56",
   "metadata": {},
   "source": [
    "### stddev(), stddev_samp() and stddev_pop()\n",
    "`stddev()` alias for stddev_samp.\n",
    "\n",
    "`stddev_samp()` function returns the sample standard deviation of values in a column.\n",
    "\n",
    "`stddev_pop()` function returns the population standard deviation of the values in a column"
   ]
  },
  {
   "cell_type": "code",
   "execution_count": 96,
   "id": "76792167",
   "metadata": {},
   "outputs": [
    {
     "name": "stdout",
     "output_type": "stream",
     "text": [
      "+-----------------+-------------------+------------------+\n",
      "|stddev(salary)   |stddev_samp(salary)|stddev_pop(salary)|\n",
      "+-----------------+-------------------+------------------+\n",
      "|765.9416862050705|765.9416862050705  |726.636084983398  |\n",
      "+-----------------+-------------------+------------------+\n",
      "\n"
     ]
    }
   ],
   "source": [
    "df.select(stddev(\"salary\"), stddev_samp(\"salary\"), stddev_pop(\"salary\")).show(truncate=False)"
   ]
  },
  {
   "cell_type": "markdown",
   "id": "9aa03215",
   "metadata": {},
   "source": [
    "### sum \n",
    "sum() function Returns the sum of all values in a column."
   ]
  },
  {
   "cell_type": "code",
   "execution_count": 97,
   "id": "9df75ca1",
   "metadata": {},
   "outputs": [
    {
     "name": "stdout",
     "output_type": "stream",
     "text": [
      "+-----------+\n",
      "|sum(salary)|\n",
      "+-----------+\n",
      "|134000     |\n",
      "+-----------+\n",
      "\n"
     ]
    }
   ],
   "source": [
    "df.select(sum(\"salary\")).show(truncate=False)"
   ]
  },
  {
   "cell_type": "markdown",
   "id": "1d3dfc40",
   "metadata": {},
   "source": [
    "### sumDistinct\n",
    "`sumDistinct()` function returns the sum of all distinct values in a column."
   ]
  },
  {
   "cell_type": "code",
   "execution_count": 98,
   "id": "7c4b2d7c",
   "metadata": {},
   "outputs": [
    {
     "name": "stderr",
     "output_type": "stream",
     "text": [
      "/home/javier/.local/lib/python3.10/site-packages/pyspark/sql/functions/builtin.py:1780: FutureWarning: Deprecated in 3.2, use sum_distinct instead.\n",
      "  warnings.warn(\"Deprecated in 3.2, use sum_distinct instead.\", FutureWarning)\n"
     ]
    },
    {
     "name": "stdout",
     "output_type": "stream",
     "text": [
      "+--------------------+\n",
      "|sum(DISTINCT salary)|\n",
      "+--------------------+\n",
      "|80900               |\n",
      "+--------------------+\n",
      "\n"
     ]
    }
   ],
   "source": [
    "df.select(sumDistinct(\"salary\")).show(truncate=False)"
   ]
  },
  {
   "cell_type": "markdown",
   "id": "ad5ecb15",
   "metadata": {},
   "source": [
    "### variance(), var_samp(), var_pop()\n",
    "`variance()` alias for var_samp\n",
    "\n",
    "`var_samp()` function returns the unbiased variance of the values in a column.\n",
    "\n",
    "`var_pop()` function returns the population variance of the values in a column.\n",
    "\n"
   ]
  },
  {
   "cell_type": "code",
   "execution_count": 99,
   "id": "16cefd76",
   "metadata": {},
   "outputs": [
    {
     "name": "stdout",
     "output_type": "stream",
     "text": [
      "+---------------+-------------------+---------------+\n",
      "|salary_variance|unbiased_var_salary|var_pop(salary)|\n",
      "+---------------+-------------------+---------------+\n",
      "|586666.67      |586666.67          |528000.0       |\n",
      "+---------------+-------------------+---------------+\n",
      "\n"
     ]
    }
   ],
   "source": [
    "from pyspark.sql.functions import round\n",
    "\n",
    "df.select(round(variance(\"salary\"), 2).alias(\"salary_variance\"),round(var_samp(\"salary\"), 2).alias(\"unbiased_var_salary\"),var_pop(\"salary\")).show(truncate=False)"
   ]
  },
  {
   "cell_type": "code",
   "execution_count": null,
   "id": "8d33b970",
   "metadata": {},
   "outputs": [],
   "source": []
  }
 ],
 "metadata": {
  "kernelspec": {
   "display_name": "Python 3",
   "language": "python",
   "name": "python3"
  },
  "language_info": {
   "codemirror_mode": {
    "name": "ipython",
    "version": 3
   },
   "file_extension": ".py",
   "mimetype": "text/x-python",
   "name": "python",
   "nbconvert_exporter": "python",
   "pygments_lexer": "ipython3",
   "version": "3.10.12"
  }
 },
 "nbformat": 4,
 "nbformat_minor": 5
}
