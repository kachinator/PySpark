{
 "cells": [
  {
   "cell_type": "markdown",
   "id": "c54d9829",
   "metadata": {},
   "source": [
    "## Select Columns From DataFrame\n",
    "\n",
    "select() function is used to select single, multiple, column by index, all columns from the list and the nested columns from a DataFrame, PySpark select() is a transformation function hence it returns a new DataFrame with the selected columns\n",
    "\n",
    "Create a dataframe"
   ]
  },
  {
   "cell_type": "code",
   "execution_count": null,
   "id": "6fd5806a",
   "metadata": {},
   "outputs": [
    {
     "name": "stdout",
     "output_type": "stream",
     "text": [
      "+---------+--------+-------+-----+\n",
      "|firstname|lastname|country|state|\n",
      "+---------+--------+-------+-----+\n",
      "|James    |Smith   |USA    |CA   |\n",
      "|Michell  |Frost   |CAN    |TO   |\n",
      "|Roberto  |Gonzales|MEX    |TL   |\n",
      "|Maria    |Jones   |USA    |FL   |\n",
      "+---------+--------+-------+-----+\n",
      "\n"
     ]
    }
   ],
   "source": [
    "import pyspark\n",
    "from pyspark.sql import SparkSession\n",
    "\n",
    "spark = SparkSession.builder.appName('select').getOrCreate()\n",
    "\n",
    "data = [(\"James\",\"Smith\",\"USA\",\"CA\"),\n",
    "        (\"Michell\",\"Frost\",\"CAN\",\"TO\"),\n",
    "        (\"Roberto\",\"Gonzales\",\"MEX\",\"TL\"),\n",
    "        (\"Maria\",\"Jones\",\"USA\",\"FL\")\n",
    "  ]\n",
    "columns = [\"firstname\",\"lastname\",\"country\",\"state\"]\n",
    "df = spark.createDataFrame(data = data, schema = columns)\n",
    "df.show(truncate=False)"
   ]
  },
  {
   "cell_type": "markdown",
   "id": "8397c26e",
   "metadata": {},
   "source": [
    "### Select Single & Multiple Columns From PySpark\n",
    "You can select the single or multiple columns of the DataFrame by passing the column names you wanted to select to the select() function. Since DataFrame is immutable, this creates a new DataFrame with selected columns. show() function is used to show the Dataframe contents.\n",
    "\n",
    "Below are ways to select single, multiple or all columns."
   ]
  },
  {
   "cell_type": "code",
   "execution_count": 22,
   "id": "dc835bcf",
   "metadata": {},
   "outputs": [
    {
     "name": "stdout",
     "output_type": "stream",
     "text": [
      "+---------+--------+\n",
      "|firstname|lastname|\n",
      "+---------+--------+\n",
      "|    James|   Smith|\n",
      "|  Michell|   Frost|\n",
      "|  Roberto|Gonzales|\n",
      "|    Maria|   Jones|\n",
      "+---------+--------+\n",
      "\n",
      "+---------+--------+\n",
      "|firstname|lastname|\n",
      "+---------+--------+\n",
      "|    James|   Smith|\n",
      "|  Michell|   Frost|\n",
      "|  Roberto|Gonzales|\n",
      "|    Maria|   Jones|\n",
      "+---------+--------+\n",
      "\n",
      "+---------+--------+\n",
      "|firstname|lastname|\n",
      "+---------+--------+\n",
      "|    James|   Smith|\n",
      "|  Michell|   Frost|\n",
      "|  Roberto|Gonzales|\n",
      "|    Maria|   Jones|\n",
      "+---------+--------+\n",
      "\n"
     ]
    }
   ],
   "source": [
    "df.select(\"firstname\",\"lastname\").show()\n",
    "df.select(df.firstname,df.lastname).show()\n",
    "df.select(df[\"firstname\"],df[\"lastname\"]).show()"
   ]
  },
  {
   "cell_type": "code",
   "execution_count": 23,
   "id": "bfb75f3c",
   "metadata": {},
   "outputs": [
    {
     "name": "stdout",
     "output_type": "stream",
     "text": [
      "+---------+--------+\n",
      "|firstname|lastname|\n",
      "+---------+--------+\n",
      "|    James|   Smith|\n",
      "|  Michell|   Frost|\n",
      "|  Roberto|Gonzales|\n",
      "|    Maria|   Jones|\n",
      "+---------+--------+\n",
      "\n"
     ]
    }
   ],
   "source": [
    "# By using col() function\n",
    "\n",
    "from pyspark.sql.functions import col\n",
    "df.select(col(\"firstname\"),col(\"lastname\")).show()"
   ]
  },
  {
   "cell_type": "code",
   "execution_count": 24,
   "id": "57ab388f",
   "metadata": {},
   "outputs": [
    {
     "name": "stdout",
     "output_type": "stream",
     "text": [
      "+---------+--------+\n",
      "|firstname|lastname|\n",
      "+---------+--------+\n",
      "|    James|   Smith|\n",
      "|  Michell|   Frost|\n",
      "|  Roberto|Gonzales|\n",
      "|    Maria|   Jones|\n",
      "+---------+--------+\n",
      "\n"
     ]
    }
   ],
   "source": [
    "#Select columns by regular expression\n",
    "\n",
    "df.select(df.colRegex(\"`^.*name*`\")).show()"
   ]
  },
  {
   "cell_type": "markdown",
   "id": "3c3b0011",
   "metadata": {},
   "source": [
    "### Select All Columns From List\n",
    "Sometimes you may need to select all DataFrame columns from a Python list. In the below example, we have all columns in the columns list object."
   ]
  },
  {
   "cell_type": "code",
   "execution_count": 25,
   "id": "4c184b66",
   "metadata": {},
   "outputs": [
    {
     "name": "stdout",
     "output_type": "stream",
     "text": [
      "\u001b[31mdf.select(*columns)\u001b[0m\n",
      "+---------+--------+-------+-----+\n",
      "|firstname|lastname|country|state|\n",
      "+---------+--------+-------+-----+\n",
      "|    James|   Smith|    USA|   CA|\n",
      "|  Michell|   Frost|    CAN|   TO|\n",
      "|  Roberto|Gonzales|    MEX|   TL|\n",
      "|    Maria|   Jones|    USA|   FL|\n",
      "+---------+--------+-------+-----+\n",
      "\n",
      "\u001b[31mdf.select([col for col in df.columns])\u001b[0m\n",
      "+---------+--------+-------+-----+\n",
      "|firstname|lastname|country|state|\n",
      "+---------+--------+-------+-----+\n",
      "|    James|   Smith|    USA|   CA|\n",
      "|  Michell|   Frost|    CAN|   TO|\n",
      "|  Roberto|Gonzales|    MEX|   TL|\n",
      "|    Maria|   Jones|    USA|   FL|\n",
      "+---------+--------+-------+-----+\n",
      "\n",
      "\u001b[31mdf.select(*)\u001b[0m\n",
      "+---------+--------+-------+-----+\n",
      "|firstname|lastname|country|state|\n",
      "+---------+--------+-------+-----+\n",
      "|    James|   Smith|    USA|   CA|\n",
      "|  Michell|   Frost|    CAN|   TO|\n",
      "|  Roberto|Gonzales|    MEX|   TL|\n",
      "|    Maria|   Jones|    USA|   FL|\n",
      "+---------+--------+-------+-----+\n",
      "\n"
     ]
    }
   ],
   "source": [
    "from termcolor import cprint\n",
    "\n",
    "# Select All columns from List\n",
    "cprint(\"df.select(*columns)\", 'red')\n",
    "df.select(*columns).show()\n",
    "\n",
    "# Select All columns\n",
    "cprint(\"df.select([col for col in df.columns])\", 'red')\n",
    "df.select([col for col in df.columns]).show()\n",
    "cprint(\"df.select(*)\", 'red')\n",
    "df.select(\"*\").show()"
   ]
  },
  {
   "cell_type": "markdown",
   "id": "725da9c0",
   "metadata": {},
   "source": [
    "### Select Columns by Index\n",
    "Using a python list features, you can select the columns by index.\n"
   ]
  },
  {
   "cell_type": "code",
   "execution_count": 26,
   "id": "e655aac9",
   "metadata": {},
   "outputs": [
    {
     "name": "stdout",
     "output_type": "stream",
     "text": [
      "\u001b[31mdf.select(df.columns[:3]).show(3)\u001b[0m\n",
      "+---------+--------+-------+\n",
      "|firstname|lastname|country|\n",
      "+---------+--------+-------+\n",
      "|    James|   Smith|    USA|\n",
      "|  Michell|   Frost|    CAN|\n",
      "|  Roberto|Gonzales|    MEX|\n",
      "+---------+--------+-------+\n",
      "only showing top 3 rows\n",
      "\u001b[31mdf.select(df.columns[2:4]).show(3)\u001b[0m\n",
      "+-------+-----+\n",
      "|country|state|\n",
      "+-------+-----+\n",
      "|    USA|   CA|\n",
      "|    CAN|   TO|\n",
      "|    MEX|   TL|\n",
      "+-------+-----+\n",
      "only showing top 3 rows\n"
     ]
    }
   ],
   "source": [
    "#Selects first 3 columns and top 3 rows\n",
    "cprint(\"df.select(df.columns[:3]).show(3)\", 'red')\n",
    "\n",
    "df.select(df.columns[:3]).show(3)\n",
    "\n",
    "#Selects columns 2 to 4  and top 3 rows\n",
    "cprint(\"df.select(df.columns[2:4]).show(3)\", 'red')\n",
    "df.select(df.columns[2:4]).show(3)"
   ]
  },
  {
   "cell_type": "markdown",
   "id": "f71836d7",
   "metadata": {},
   "source": [
    "### Select Nested Struct Columns from PySpark\n",
    "If you have a nested struct (StructType) column on PySpark DataFrame, you need to use an explicit column qualifier in order to select. \n",
    "\n",
    " let’s create a new DataFrame with a struct type. Column 'name' is a struct type which consists of columns firstname, middlename, lastname."
   ]
  },
  {
   "cell_type": "code",
   "execution_count": 27,
   "id": "bba8feb1",
   "metadata": {},
   "outputs": [
    {
     "name": "stdout",
     "output_type": "stream",
     "text": [
      "root\n",
      " |-- name: struct (nullable = true)\n",
      " |    |-- firstname: string (nullable = true)\n",
      " |    |-- middlename: string (nullable = true)\n",
      " |    |-- lastname: string (nullable = true)\n",
      " |-- state: string (nullable = true)\n",
      " |-- gender: string (nullable = true)\n",
      "\n",
      "+-----------------------+-----+------+\n",
      "|name                   |state|gender|\n",
      "+-----------------------+-----+------+\n",
      "|{James, NULL, Smith}   |IL   |M     |\n",
      "|{Anna, Rose, }         |SC   |F     |\n",
      "|{Julia, , Williams}    |IL   |F     |\n",
      "|{Maria, Anne, Jones}   |NY   |M     |\n",
      "|{Jen, Martin, Brown}   |TX   |M     |\n",
      "|{Mike, Keith, Williams}|IL   |M     |\n",
      "+-----------------------+-----+------+\n",
      "\n"
     ]
    }
   ],
   "source": [
    "data = [\n",
    "        ((\"James\",None,\"Smith\"),\"IL\",\"M\"),\n",
    "        ((\"Anna\",\"Rose\",\"\"),\"SC\",\"F\"),\n",
    "        ((\"Julia\",\"\",\"Williams\"),\"IL\",\"F\"),\n",
    "        ((\"Maria\",\"Anne\",\"Jones\"),\"NY\",\"M\"),\n",
    "        ((\"Jen\",\"Martin\",\"Brown\"),\"TX\",\"M\"),\n",
    "        ((\"Mike\",\"Keith\",\"Williams\"),\"IL\",\"M\")\n",
    "        ]\n",
    "\n",
    "from pyspark.sql.types import StructType,StructField, StringType        \n",
    "\n",
    "schema = StructType([\n",
    "    StructField('name', StructType([\n",
    "         StructField('firstname', StringType(), True),\n",
    "         StructField('middlename', StringType(), True),\n",
    "         StructField('lastname', StringType(), True)\n",
    "         ])),\n",
    "     StructField('state', StringType(), True),\n",
    "     StructField('gender', StringType(), True)\n",
    "     ])\n",
    "df2 = spark.createDataFrame(data = data, schema = schema)\n",
    "df2.printSchema()\n",
    "df2.show(truncate=False) # shows all columns"
   ]
  },
  {
   "cell_type": "markdown",
   "id": "99290016",
   "metadata": {},
   "source": [
    " let’s select struct column."
   ]
  },
  {
   "cell_type": "code",
   "execution_count": 28,
   "id": "31bd758e",
   "metadata": {},
   "outputs": [
    {
     "name": "stdout",
     "output_type": "stream",
     "text": [
      "+-----------------------+\n",
      "|name                   |\n",
      "+-----------------------+\n",
      "|{James, NULL, Smith}   |\n",
      "|{Anna, Rose, }         |\n",
      "|{Julia, , Williams}    |\n",
      "|{Maria, Anne, Jones}   |\n",
      "|{Jen, Martin, Brown}   |\n",
      "|{Mike, Keith, Williams}|\n",
      "+-----------------------+\n",
      "\n"
     ]
    }
   ],
   "source": [
    "df2.select(\"name\").show(truncate=False)"
   ]
  },
  {
   "cell_type": "markdown",
   "id": "06eec923",
   "metadata": {},
   "source": [
    "In order to select the specific column from a nested struct, you need to explicitly qualify the nested struct column name."
   ]
  },
  {
   "cell_type": "code",
   "execution_count": 29,
   "id": "2869882b",
   "metadata": {},
   "outputs": [
    {
     "name": "stdout",
     "output_type": "stream",
     "text": [
      "+---------+--------+\n",
      "|firstname|lastname|\n",
      "+---------+--------+\n",
      "|James    |Smith   |\n",
      "|Anna     |        |\n",
      "|Julia    |Williams|\n",
      "|Maria    |Jones   |\n",
      "|Jen      |Brown   |\n",
      "|Mike     |Williams|\n",
      "+---------+--------+\n",
      "\n"
     ]
    }
   ],
   "source": [
    "df2.select(\"name.firstname\",\"name.lastname\").show(truncate=False)"
   ]
  },
  {
   "cell_type": "markdown",
   "id": "1cbc4cf9",
   "metadata": {},
   "source": [
    "In order to get all columns from struct column."
   ]
  },
  {
   "cell_type": "code",
   "execution_count": 30,
   "id": "3f9e82ee",
   "metadata": {},
   "outputs": [
    {
     "name": "stdout",
     "output_type": "stream",
     "text": [
      "+---------+----------+--------+\n",
      "|firstname|middlename|lastname|\n",
      "+---------+----------+--------+\n",
      "|James    |NULL      |Smith   |\n",
      "|Anna     |Rose      |        |\n",
      "|Julia    |          |Williams|\n",
      "|Maria    |Anne      |Jones   |\n",
      "|Jen      |Martin    |Brown   |\n",
      "|Mike     |Keith     |Williams|\n",
      "+---------+----------+--------+\n",
      "\n"
     ]
    }
   ],
   "source": [
    "df2.select(\"name.*\").show(truncate=False)"
   ]
  }
 ],
 "metadata": {
  "kernelspec": {
   "display_name": "Python 3",
   "language": "python",
   "name": "python3"
  },
  "language_info": {
   "codemirror_mode": {
    "name": "ipython",
    "version": 3
   },
   "file_extension": ".py",
   "mimetype": "text/x-python",
   "name": "python",
   "nbconvert_exporter": "python",
   "pygments_lexer": "ipython3",
   "version": "3.10.12"
  }
 },
 "nbformat": 4,
 "nbformat_minor": 5
}
