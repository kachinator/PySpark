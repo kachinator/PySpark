{
 "cells": [
  {
   "cell_type": "code",
   "execution_count": 10,
   "metadata": {},
   "outputs": [],
   "source": [
    "from pyspark.sql import SparkSession\n",
    "# Use reduce to apply combine to numbers\n",
    "from functools import reduce\n",
    "from termcolor import cprint\n",
    "\n",
    "spark = SparkSession.builder.appName('reduce').getOrCreate()"
   ]
  },
  {
   "cell_type": "markdown",
   "metadata": {},
   "source": [
    "### Reduce\n",
    "Reduce takes a function `f` and an array as input. The function `f` gets two input parameters that work on individual elements of the array. `Reduce` combines every two elements of the array using the function `f`. \n",
    "The reduce() function accepts a function and a sequence and returns a single value calculated as follows:\n",
    "\n",
    "1) Initially, the function is called with the first two items from the sequence and the result is returned.\n",
    "2) The function is then called again with the result obtained in step 1  and the next value in the sequence. This process keeps repeating  until there are items in the sequence.  \n",
    "Let’s take an example:"
   ]
  },
  {
   "cell_type": "code",
   "execution_count": 11,
   "metadata": {},
   "outputs": [
    {
     "name": "stdout",
     "output_type": "stream",
     "text": [
      "\u001b[31m[1, 4, 6, 2, 9, 10]\u001b[0m\n"
     ]
    },
    {
     "data": {
      "text/plain": [
       "'(((((1, 4), 6), 2), 9), 10)'"
      ]
     },
     "execution_count": 11,
     "metadata": {},
     "output_type": "execute_result"
    }
   ],
   "source": [
    "# we define a list of integers\n",
    "numbers = [1, 4, 6, 2, 9, 10]\n",
    "\n",
    "# Define a new function combine\n",
    "# Convert x and y to strings and create a tuple from x,y\n",
    "def combine(x,y):\n",
    "  return \"(\" + str(x) + \", \" + str(y) + \")\"\n",
    "\n",
    "cprint(numbers, 'red')\n",
    "reduce(combine,numbers)"
   ]
  },
  {
   "cell_type": "code",
   "execution_count": 12,
   "metadata": {},
   "outputs": [
    {
     "name": "stdout",
     "output_type": "stream",
     "text": [
      "\u001b[31m[1, 4, 6, 2, 9, 10]\u001b[0m\n"
     ]
    },
    {
     "data": {
      "text/plain": [
       "'(((((1, 4), 6), 2), 9), 10)'"
      ]
     },
     "execution_count": 12,
     "metadata": {},
     "output_type": "execute_result"
    }
   ],
   "source": [
    "# we define a list of integers\n",
    "numbers = [1, 4, 6, 2, 9, 10]\n",
    "\n",
    "cprint(numbers, 'red')\n",
    "reduce(lambda x,y: \"(\" + str(x) + \", \" + str(y) + \")\",numbers)"
   ]
  },
  {
   "cell_type": "markdown",
   "metadata": {},
   "source": [
    "### reduce(f)\n",
    "Reduces the elements of this RDD using the specified commutative and associative binary operator. Currently reduces partitions locally."
   ]
  },
  {
   "cell_type": "code",
   "execution_count": 13,
   "metadata": {},
   "outputs": [
    {
     "data": {
      "text/plain": [
       "15"
      ]
     },
     "execution_count": 13,
     "metadata": {},
     "output_type": "execute_result"
    }
   ],
   "source": [
    "from operator import add\n",
    "spark.sparkContext.parallelize([1, 2, 3, 4, 5]).reduce(add)"
   ]
  },
  {
   "cell_type": "code",
   "execution_count": 14,
   "metadata": {},
   "outputs": [
    {
     "data": {
      "text/plain": [
       "'(((((1, 4), 6), 2), 9), 10)'"
      ]
     },
     "execution_count": 14,
     "metadata": {},
     "output_type": "execute_result"
    }
   ],
   "source": [
    "spark.sparkContext.parallelize(numbers).reduce(combine)"
   ]
  },
  {
   "cell_type": "code",
   "execution_count": 15,
   "metadata": {},
   "outputs": [
    {
     "name": "stdout",
     "output_type": "stream",
     "text": [
      "\u001b[31mstart 2025-08-08 21:05:16.963551\u001b[0m\n",
      "distData.reduce(lambda x,y:x+y) = 45\n",
      "\u001b[31mends 2025-08-08 21:05:17.273518\u001b[0m\n"
     ]
    }
   ],
   "source": [
    "import datetime\n",
    "\n",
    "data=range(1,10)\n",
    "distData = spark.sparkContext.parallelize(data,4)\n",
    "\n",
    "cprint(f\"start {datetime.datetime.now()}\", 'red')\n",
    "a = distData.reduce(lambda x,y:x+y)\n",
    "print(f\"distData.reduce(lambda x,y:x+y) = {a}\")\n",
    "cprint(f\"ends {datetime.datetime.now()}\", 'red')\n"
   ]
  },
  {
   "cell_type": "markdown",
   "metadata": {},
   "source": [
    "### Aggregate similar to __`reduce`__"
   ]
  },
  {
   "cell_type": "code",
   "execution_count": 16,
   "metadata": {},
   "outputs": [
    {
     "name": "stdout",
     "output_type": "stream",
     "text": [
      "\u001b[32mstart 2025-08-08 21:05:17.288075\u001b[0m\n",
      "45\n",
      "\u001b[32mends 2025-08-08 21:05:17.553770\u001b[0m\n"
     ]
    }
   ],
   "source": [
    "seqOp = (lambda x, y: x+y)\n",
    "combOp = (lambda x, y: x+y)\n",
    "cprint(f\"start {datetime.datetime.now()}\", 'green')\n",
    "b=distData.aggregate(0, seqOp, combOp)\n",
    "print(b)\n",
    "cprint(f\"ends {datetime.datetime.now()}\", 'green')\n"
   ]
  },
  {
   "cell_type": "code",
   "execution_count": 17,
   "metadata": {},
   "outputs": [
    {
     "data": {
      "text/plain": [
       "45"
      ]
     },
     "execution_count": 17,
     "metadata": {},
     "output_type": "execute_result"
    }
   ],
   "source": [
    "# SUM of every element from 1 to 10, formula  (n*(n-1)/2) = 45 for n=10 \n",
    "data=range(1,10)\n",
    "reduce(lambda x,y:x+y, data)"
   ]
  },
  {
   "cell_type": "markdown",
   "metadata": {},
   "source": [
    "max num in list"
   ]
  },
  {
   "cell_type": "code",
   "execution_count": 18,
   "metadata": {},
   "outputs": [
    {
     "name": "stdout",
     "output_type": "stream",
     "text": [
      "\u001b[36mall_max of  [1, 24, 17, 14, 9, 32, 2] = 32\u001b[0m\n"
     ]
    }
   ],
   "source": [
    "\n",
    "from functools import reduce\n",
    "items = [1, 24, 17, 14, 9, 32, 2]\n",
    "all_max = reduce(lambda a,b: a if (a > b) else b, items)\n",
    " \n",
    "cprint (f\"all_max of  [1, 24, 17, 14, 9, 32, 2] = {all_max}\", 'cyan') "
   ]
  }
 ],
 "metadata": {
  "kernelspec": {
   "display_name": "Python 3",
   "language": "python",
   "name": "python3"
  },
  "language_info": {
   "codemirror_mode": {
    "name": "ipython",
    "version": 3
   },
   "file_extension": ".py",
   "mimetype": "text/x-python",
   "name": "python",
   "nbconvert_exporter": "python",
   "pygments_lexer": "ipython3",
   "version": "3.10.12"
  },
  "orig_nbformat": 4
 },
 "nbformat": 4,
 "nbformat_minor": 2
}
