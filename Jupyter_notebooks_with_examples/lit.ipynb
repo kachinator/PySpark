{
 "cells": [
  {
   "cell_type": "markdown",
   "id": "5c207c3e",
   "metadata": {},
   "source": [
    "## lit() – Add Literal or Constant to DataFrame\n",
    "PySpark SQL functions lit() and typedLit() are used to add a new column to DataFrame by assigning a literal or constant value. Both these functions return Column type as return type.\n",
    "\n",
    "Both of these are available in PySpark by importing pyspark.sql.functions\n",
    "\n",
    "First, let’s create a DataFrame."
   ]
  },
  {
   "cell_type": "code",
   "execution_count": 1,
   "id": "20033eed",
   "metadata": {},
   "outputs": [
    {
     "name": "stderr",
     "output_type": "stream",
     "text": [
      "WARNING: Using incubator modules: jdk.incubator.vector\n",
      "Using Spark's default log4j profile: org/apache/spark/log4j2-defaults.properties\n",
      "25/08/07 20:54:05 WARN Utils: Your hostname, javier-ubuntu, resolves to a loopback address: 127.0.1.1; using 10.0.0.205 instead (on interface wlx0013eff3e14d)\n",
      "25/08/07 20:54:05 WARN Utils: Set SPARK_LOCAL_IP if you need to bind to another address\n",
      "Using Spark's default log4j profile: org/apache/spark/log4j2-defaults.properties\n",
      "Setting default log level to \"WARN\".\n",
      "To adjust logging level use sc.setLogLevel(newLevel). For SparkR, use setLogLevel(newLevel).\n",
      "25/08/07 20:54:06 WARN NativeCodeLoader: Unable to load native-hadoop library for your platform... using builtin-java classes where applicable\n",
      "                                                                                \r"
     ]
    },
    {
     "name": "stdout",
     "output_type": "stream",
     "text": [
      "+------+------------+\n",
      "|EmpId |Remuneration|\n",
      "+------+------------+\n",
      "|111x23|500         |\n",
      "|222y67|600         |\n",
      "|333z89|400         |\n",
      "+------+------------+\n",
      "\n"
     ]
    }
   ],
   "source": [
    "from pyspark.sql import SparkSession\n",
    "\n",
    "spark = SparkSession.builder.appName('lit').getOrCreate()\n",
    "\n",
    "\n",
    "data = [(\"111x23\",500),(\"222y67\",600),(\"333z89\",400)]\n",
    "columns= [\"EmpId\",\"Remuneration\"]\n",
    "df = spark.createDataFrame(data = data, schema = columns)\n",
    "df.show(truncate=False)"
   ]
  },
  {
   "cell_type": "markdown",
   "id": "23a06c7a",
   "metadata": {},
   "source": [
    "PySpark lit() function is used to add constant or literal value as a new column to the DataFrame.\n",
    "\n",
    "Creates a [[Column]] of literal value. The passed in object is returned directly if it is already a [[Column]]. If the object is a Scala Symbol, it is converted into a [[Column]] also. Otherwise, a new [[Column]] is created to represent the literal value\n",
    "\n",
    "### Simple usage of lit() function\n",
    "example of how to create a new column with constant value using lit() Spark SQL function. On the below snippet, we are creating a new column by adding a literal ‘1’ to PySpark DataFrame"
   ]
  },
  {
   "cell_type": "code",
   "execution_count": 2,
   "id": "1c73c697",
   "metadata": {},
   "outputs": [
    {
     "name": "stdout",
     "output_type": "stream",
     "text": [
      "+------+------------+----------+\n",
      "|EmpId |Remuneration|lit_value1|\n",
      "+------+------------+----------+\n",
      "|111x23|500         |1         |\n",
      "|222y67|600         |1         |\n",
      "|333z89|400         |1         |\n",
      "+------+------------+----------+\n",
      "\n"
     ]
    }
   ],
   "source": [
    "from pyspark.sql.functions import col,lit\n",
    "df2 = df.select(col(\"EmpId\"),col(\"Remuneration\"),lit(\"1\").alias(\"lit_value1\"))\n",
    "df2.show(truncate=False)"
   ]
  },
  {
   "cell_type": "markdown",
   "id": "c0e495cf",
   "metadata": {},
   "source": [
    "Adding the same constant literal to all records in DataFrame may not be real-time useful so let’s see another example.\n",
    "\n",
    "### lit() function with withColumn\n",
    "The following example shows how to use pyspark lit() function using withColumn to derive a new column based on some conditions."
   ]
  },
  {
   "cell_type": "code",
   "execution_count": 3,
   "id": "ba0356f0",
   "metadata": {},
   "outputs": [
    {
     "name": "stdout",
     "output_type": "stream",
     "text": [
      "+------+------------+----------+----------+\n",
      "|EmpId |Remuneration|lit_value1|lit_value2|\n",
      "+------+------------+----------+----------+\n",
      "|111x23|500         |1         |100       |\n",
      "|222y67|600         |1         |200       |\n",
      "|333z89|400         |1         |100       |\n",
      "+------+------------+----------+----------+\n",
      "\n"
     ]
    }
   ],
   "source": [
    "from pyspark.sql.functions import when, lit, col\n",
    "df3 = df2.withColumn(\"lit_value2\", when((col(\"Remuneration\") >=400) & (col(\"Remuneration\") <= 500),lit(\"100\")).otherwise(lit(\"200\")))\n",
    "df3.show(truncate=False)"
   ]
  }
 ],
 "metadata": {
  "kernelspec": {
   "display_name": "Python 3",
   "language": "python",
   "name": "python3"
  },
  "language_info": {
   "codemirror_mode": {
    "name": "ipython",
    "version": 3
   },
   "file_extension": ".py",
   "mimetype": "text/x-python",
   "name": "python",
   "nbconvert_exporter": "python",
   "pygments_lexer": "ipython3",
   "version": "3.10.12"
  }
 },
 "nbformat": 4,
 "nbformat_minor": 5
}
