{
 "cells": [
  {
   "cell_type": "markdown",
   "id": "2016f191",
   "metadata": {},
   "source": [
    "## regexp_replace() Replace Column Values in DataFrame\n",
    "How to replace part of a string with another string, replace all columns, change values conditionally, replace values from a python dictionary, replace column value from another DataFrame column.\n",
    "\n",
    "Let’s create a PySpark DataFrame with some addresses and will use this DataFrame to explain how to replace column values."
   ]
  },
  {
   "cell_type": "code",
   "execution_count": 1,
   "id": "95c6f7a3",
   "metadata": {},
   "outputs": [
    {
     "name": "stderr",
     "output_type": "stream",
     "text": [
      "WARNING: Using incubator modules: jdk.incubator.vector\n",
      "Using Spark's default log4j profile: org/apache/spark/log4j2-defaults.properties\n",
      "25/08/09 21:00:03 WARN Utils: Your hostname, javier-ubuntu, resolves to a loopback address: 127.0.1.1; using 172.17.0.1 instead (on interface docker0)\n",
      "25/08/09 21:00:03 WARN Utils: Set SPARK_LOCAL_IP if you need to bind to another address\n",
      "Using Spark's default log4j profile: org/apache/spark/log4j2-defaults.properties\n",
      "Setting default log level to \"WARN\".\n",
      "To adjust logging level use sc.setLogLevel(newLevel). For SparkR, use setLogLevel(newLevel).\n",
      "25/08/09 21:00:05 WARN NativeCodeLoader: Unable to load native-hadoop library for your platform... using builtin-java classes where applicable\n",
      "25/08/09 21:00:05 WARN Utils: Service 'SparkUI' could not bind on port 4040. Attempting port 4041.\n",
      "25/08/09 21:00:05 WARN Utils: Service 'SparkUI' could not bind on port 4041. Attempting port 4042.\n",
      "25/08/09 21:00:05 WARN Utils: Service 'SparkUI' could not bind on port 4042. Attempting port 4043.\n",
      "                                                                                \r"
     ]
    },
    {
     "name": "stdout",
     "output_type": "stream",
     "text": [
      "+---+------------------+-----+\n",
      "| id|           address|state|\n",
      "+---+------------------+-----+\n",
      "|  1|  14851 Jeffrey Rd|   DE|\n",
      "|  2|43421 Margarita St|   NY|\n",
      "|  3|  13111 Siemon Ave|   CA|\n",
      "+---+------------------+-----+\n",
      "\n"
     ]
    }
   ],
   "source": [
    "from pyspark.sql import SparkSession\n",
    "\n",
    "spark = SparkSession.builder.appName(\"regexp_replace\").getOrCreate()\n",
    "\n",
    "address = [(1,\"14851 Jeffrey Rd\",\"DE\"),\n",
    "           (2,\"43421 Margarita St\",\"NY\"),\n",
    "           (3,\"13111 Siemon Ave\",\"CA\")]\n",
    "           \n",
    "df =spark.createDataFrame(address,[\"id\",\"address\",\"state\"])\n",
    "df.show()"
   ]
  },
  {
   "cell_type": "markdown",
   "id": "db77d7bc",
   "metadata": {},
   "source": [
    "### Replace String Column Values\n",
    "By using PySpark SQL function `regexp_replace()` you can replace a column value with a string for another string/substring. `regexp_replace()` uses Java regex for matching, if the regex does not match it returns an empty string, the below example replace the street name `Rd` value with `Road` string on `address` column."
   ]
  },
  {
   "cell_type": "code",
   "execution_count": 2,
   "id": "4bbdbade",
   "metadata": {},
   "outputs": [
    {
     "name": "stdout",
     "output_type": "stream",
     "text": [
      "+---+------------------+-----+\n",
      "|id |address           |state|\n",
      "+---+------------------+-----+\n",
      "|1  |14851 Jeffrey Road|DE   |\n",
      "|2  |43421 Margarita St|NY   |\n",
      "|3  |13111 Siemon Ave  |CA   |\n",
      "+---+------------------+-----+\n",
      "\n"
     ]
    }
   ],
   "source": [
    "#Replace part of string with another string\n",
    "from pyspark.sql.functions import regexp_replace\n",
    "\n",
    "df.withColumn('address', regexp_replace('address', 'Rd', 'Road')).show(truncate=False)"
   ]
  },
  {
   "cell_type": "markdown",
   "id": "5a3df750",
   "metadata": {},
   "source": [
    "### Replace Column Values Conditionally\n",
    "we just replaced `Rd` with `Road`, but not replaced `St` and `Ave` values, let’s see how to replace column values conditionally in PySpark Dataframe by using `when().otherwise()` SQL condition function."
   ]
  },
  {
   "cell_type": "code",
   "execution_count": 3,
   "id": "df8096a9",
   "metadata": {},
   "outputs": [
    {
     "name": "stdout",
     "output_type": "stream",
     "text": [
      "+---+----------------------+-----+\n",
      "|id |address               |state|\n",
      "+---+----------------------+-----+\n",
      "|1  |14851 Jeffrey Road    |DE   |\n",
      "|2  |43421 Margarita Street|NY   |\n",
      "|3  |13111 Siemon Avenue   |CA   |\n",
      "+---+----------------------+-----+\n",
      "\n"
     ]
    }
   ],
   "source": [
    "from pyspark.sql.functions import when\n",
    "df.withColumn('address', \n",
    "    when(df.address.endswith('Rd'),regexp_replace(df.address,'Rd','Road')) \\\n",
    "   .when(df.address.endswith('St'),regexp_replace(df.address,'St','Street')) \\\n",
    "   .when(df.address.endswith('Ave'),regexp_replace(df.address,'Ave','Avenue')) \\\n",
    "   .otherwise(df.address)) \\\n",
    "   .show(truncate=False)"
   ]
  },
  {
   "cell_type": "markdown",
   "id": "e1b74843",
   "metadata": {},
   "source": [
    "### Replace Column Value with Dictionary (map)\n",
    "We can replace column values from the python dictionary (map). Below, we replace the string value of the `state` column with the full abbreviated name from a dictionary key-value pair, in order to do so I use PySpark `map()` transformation to loop through each row of DataFrame."
   ]
  },
  {
   "cell_type": "code",
   "execution_count": 4,
   "id": "313117df",
   "metadata": {},
   "outputs": [
    {
     "name": "stdout",
     "output_type": "stream",
     "text": [
      "+---+------------------+----------+\n",
      "| id|           address|     state|\n",
      "+---+------------------+----------+\n",
      "|  1|  14851 Jeffrey Rd|  Delaware|\n",
      "|  2|43421 Margarita St|  New York|\n",
      "|  3|  13111 Siemon Ave|California|\n",
      "+---+------------------+----------+\n",
      "\n"
     ]
    }
   ],
   "source": [
    "stateDic={'CA':'California','NY':'New York','DE':'Delaware'}\n",
    "\n",
    "df2=df.rdd.map(lambda x: (x.id,x.address,stateDic[x.state]) ).toDF([\"id\",\"address\",\"state\"])\n",
    "df2.show()"
   ]
  },
  {
   "cell_type": "markdown",
   "id": "248e2cdf",
   "metadata": {},
   "source": [
    "### Replace Column Value Character by Character\n",
    "By using `translate()` string function you can *replace character by character of DataFrame column* value. In the below example, every character of 1 is replaced with A, 2 replaced with B, and 3 replaced with C on the `address` column."
   ]
  },
  {
   "cell_type": "code",
   "execution_count": 5,
   "id": "49cade15",
   "metadata": {},
   "outputs": [
    {
     "name": "stdout",
     "output_type": "stream",
     "text": [
      "+---+------------------+-----+\n",
      "|id |address           |state|\n",
      "+---+------------------+-----+\n",
      "|1  |A485A Jeffrey Rd  |DE   |\n",
      "|2  |4C4BA Margarita St|NY   |\n",
      "|3  |ACAAA Siemon Ave  |CA   |\n",
      "+---+------------------+-----+\n",
      "\n"
     ]
    }
   ],
   "source": [
    "#Using translate to replace character by character\n",
    "from pyspark.sql.functions import translate\n",
    "\n",
    "df.withColumn('address', translate('address', '123', 'ABC')).show(truncate=False)"
   ]
  },
  {
   "cell_type": "markdown",
   "id": "da127807",
   "metadata": {},
   "source": [
    "### Replace Column with Another Column Value\n",
    "By using `expr()` and `regexp_replace()` you can replace column value with a value from another DataFrame column. In the below example, we match the value from `col2` in `col1` and replace with `col3` to create new_column. Use `expr()` to provide SQL like expressions and is used to refer to another column to perform operations."
   ]
  },
  {
   "cell_type": "code",
   "execution_count": 6,
   "id": "40b19110",
   "metadata": {},
   "outputs": [
    {
     "name": "stdout",
     "output_type": "stream",
     "text": [
      "\u001b[34m--- df\u001b[0m\n",
      "+---------+----+----+\n",
      "|     col1|col2|col3|\n",
      "+---------+----+----+\n",
      "|ABCDE_XYZ| XYZ| FGH|\n",
      "+---------+----+----+\n",
      "\n",
      "\u001b[34m--- df.withColumn(\"new_column\", expr(\"regexp_replace(col1, col2, col3)\")\u001b[0m\n",
      "+---------+----+----+----------+\n",
      "|     col1|col2|col3|new_column|\n",
      "+---------+----+----+----------+\n",
      "|ABCDE_XYZ| XYZ| FGH| ABCDE_FGH|\n",
      "+---------+----+----+----------+\n",
      "\n"
     ]
    }
   ],
   "source": [
    "#Replace column with another column\n",
    "from pyspark.sql.functions import expr\n",
    "from termcolor import cprint\n",
    "\n",
    "cprint(\"--- df\", 'blue')\n",
    "df = spark.createDataFrame([(\"ABCDE_XYZ\", \"XYZ\",\"FGH\")], (\"col1\", \"col2\",\"col3\"))\n",
    "df.show()\n",
    "cprint('--- df.withColumn(\"new_column\", expr(\"regexp_replace(col1, col2, col3)\")', 'blue')\n",
    "df.withColumn(\"new_column\", expr(\"regexp_replace(col1, col2, col3)\")).show()\n"
   ]
  },
  {
   "cell_type": "markdown",
   "id": "560db727",
   "metadata": {},
   "source": [
    "### Replace Empty Value With None/null on DataFrame\n",
    "In PySpark DataFrame use `when().otherwise()` SQL functions to find out if a column has an empty value and use `withColumn()` transformation to replace a value of an existing column.\n",
    "\n",
    "Note: In PySpark DataFrame `None` value are shown as `null` value\n",
    "\n",
    "DataFrame with empty values on some rows"
   ]
  },
  {
   "cell_type": "code",
   "execution_count": 7,
   "id": "7eda26c0",
   "metadata": {},
   "outputs": [
    {
     "name": "stdout",
     "output_type": "stream",
     "text": [
      "+------+-----+\n",
      "|  name|state|\n",
      "+------+-----+\n",
      "|      |   CA|\n",
      "| Julia|     |\n",
      "|Robert|     |\n",
      "|      |   NJ|\n",
      "+------+-----+\n",
      "\n"
     ]
    }
   ],
   "source": [
    "from pyspark.sql import SparkSession\n",
    "\n",
    "data = [(\"\",\"CA\"), (\"Julia\",\"\"),(\"Robert\",\"\"),(\"\",\"NJ\")]\n",
    "df =spark.createDataFrame(data,[\"name\",\"state\"])\n",
    "df.show()"
   ]
  },
  {
   "cell_type": "markdown",
   "id": "bb796259",
   "metadata": {},
   "source": [
    "#### Replace Empty Value with None\n",
    "In order to replace empty value with `None/null` on single DataFrame column, you can use `withColumn()` and `when().otherwise()` function."
   ]
  },
  {
   "cell_type": "code",
   "execution_count": 8,
   "id": "9f1c3106",
   "metadata": {},
   "outputs": [
    {
     "name": "stdout",
     "output_type": "stream",
     "text": [
      "+------+-----+\n",
      "|  name|state|\n",
      "+------+-----+\n",
      "|  NULL|   CA|\n",
      "| Julia|     |\n",
      "|Robert|     |\n",
      "|  NULL|   NJ|\n",
      "+------+-----+\n",
      "\n"
     ]
    }
   ],
   "source": [
    "# Replace empty string with None value\n",
    "from pyspark.sql.functions import col,when\n",
    "\n",
    "df.withColumn(\"name\", when(col(\"name\")==\"\", None).otherwise(col(\"name\"))).show()"
   ]
  },
  {
   "cell_type": "markdown",
   "id": "c4de4f61",
   "metadata": {},
   "source": [
    "#### Replace Empty Value with None on All DataFrame Columns\n",
    "To replace an empty value with `None/null` on all DataFrame columns, use `df.columns` to get all DataFrame columns, loop through this by applying conditions."
   ]
  },
  {
   "cell_type": "code",
   "execution_count": 9,
   "id": "e9447f0c",
   "metadata": {},
   "outputs": [
    {
     "name": "stdout",
     "output_type": "stream",
     "text": [
      "+------+-----+\n",
      "|  name|state|\n",
      "+------+-----+\n",
      "|  NULL|   CA|\n",
      "| Julia| NULL|\n",
      "|Robert| NULL|\n",
      "|  NULL|   NJ|\n",
      "+------+-----+\n",
      "\n"
     ]
    }
   ],
   "source": [
    "# Replace empty string with None for all columns\n",
    "from pyspark.sql.functions import col,when\n",
    "\n",
    "df2 = df.select([when(col(c)==\"\",None).otherwise(col(c)).alias(c) for c in df.columns])\n",
    "df2.show()"
   ]
  },
  {
   "cell_type": "markdown",
   "id": "2a6a702d",
   "metadata": {},
   "source": [
    "#### Replace Empty Value with None on Selected Columns\n",
    "you can also replace a selected list of columns, specify all columns you wanted to replace in a list and use this on same expression above."
   ]
  },
  {
   "cell_type": "code",
   "execution_count": 10,
   "id": "9c001378",
   "metadata": {},
   "outputs": [
    {
     "name": "stdout",
     "output_type": "stream",
     "text": [
      "+------+-----+\n",
      "|  name|state|\n",
      "+------+-----+\n",
      "|  NULL|   CA|\n",
      "| Julia| NULL|\n",
      "|Robert| NULL|\n",
      "|  NULL|   NJ|\n",
      "+------+-----+\n",
      "\n"
     ]
    }
   ],
   "source": [
    "# Replace empty string with None on selected columns\n",
    "from pyspark.sql.functions import col,when\n",
    "\n",
    "replaceCols = [\"name\",\"state\"]\n",
    "\n",
    "df2 = df.select([when(col(c)==\"\",None).otherwise(col(c)).alias(c) for c in replaceCols])\n",
    "df2.show()"
   ]
  }
 ],
 "metadata": {
  "kernelspec": {
   "display_name": "Python 3",
   "language": "python",
   "name": "python3"
  },
  "language_info": {
   "codemirror_mode": {
    "name": "ipython",
    "version": 3
   },
   "file_extension": ".py",
   "mimetype": "text/x-python",
   "name": "python",
   "nbconvert_exporter": "python",
   "pygments_lexer": "ipython3",
   "version": "3.10.12"
  }
 },
 "nbformat": 4,
 "nbformat_minor": 5
}
