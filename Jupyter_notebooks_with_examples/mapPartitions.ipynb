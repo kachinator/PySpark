{
 "cells": [
  {
   "cell_type": "code",
   "execution_count": 1,
   "metadata": {},
   "outputs": [
    {
     "name": "stderr",
     "output_type": "stream",
     "text": [
      "WARNING: Using incubator modules: jdk.incubator.vector\n",
      "Using Spark's default log4j profile: org/apache/spark/log4j2-defaults.properties\n",
      "25/08/09 15:50:13 WARN Utils: Your hostname, javier-ubuntu, resolves to a loopback address: 127.0.1.1; using 172.17.0.1 instead (on interface docker0)\n",
      "25/08/09 15:50:13 WARN Utils: Set SPARK_LOCAL_IP if you need to bind to another address\n",
      ":: loading settings :: url = jar:file:/home/javier/.local/lib/python3.10/site-packages/pyspark/jars/ivy-2.5.3.jar!/org/apache/ivy/core/settings/ivysettings.xml\n",
      "Ivy Default Cache set to: /home/javier/.ivy2.5.2/cache\n",
      "The jars for the packages stored in: /home/javier/.ivy2.5.2/jars\n",
      "io.delta#delta-spark_2.13 added as a dependency\n",
      ":: resolving dependencies :: org.apache.spark#spark-submit-parent-77548cdb-2a27-4a84-b249-d70fbc9419c8;1.0\n",
      "\tconfs: [default]\n",
      "\tfound io.delta#delta-spark_2.13;4.0.0 in central\n",
      "\tfound io.delta#delta-storage;4.0.0 in central\n",
      "\tfound org.antlr#antlr4-runtime;4.13.1 in central\n",
      ":: resolution report :: resolve 155ms :: artifacts dl 7ms\n",
      "\t:: modules in use:\n",
      "\tio.delta#delta-spark_2.13;4.0.0 from central in [default]\n",
      "\tio.delta#delta-storage;4.0.0 from central in [default]\n",
      "\torg.antlr#antlr4-runtime;4.13.1 from central in [default]\n",
      "\t---------------------------------------------------------------------\n",
      "\t|                  |            modules            ||   artifacts   |\n",
      "\t|       conf       | number| search|dwnlded|evicted|| number|dwnlded|\n",
      "\t---------------------------------------------------------------------\n",
      "\t|      default     |   3   |   0   |   0   |   0   ||   3   |   0   |\n",
      "\t---------------------------------------------------------------------\n",
      ":: retrieving :: org.apache.spark#spark-submit-parent-77548cdb-2a27-4a84-b249-d70fbc9419c8\n",
      "\tconfs: [default]\n",
      "\t0 artifacts copied, 3 already retrieved (0kB/7ms)\n",
      "25/08/09 15:50:14 WARN NativeCodeLoader: Unable to load native-hadoop library for your platform... using builtin-java classes where applicable\n",
      "Using Spark's default log4j profile: org/apache/spark/log4j2-defaults.properties\n",
      "Setting default log level to \"WARN\".\n",
      "To adjust logging level use sc.setLogLevel(newLevel). For SparkR, use setLogLevel(newLevel).\n"
     ]
    }
   ],
   "source": [
    "from pyspark.sql import SparkSession\n",
    "from delta import *\n",
    "from termcolor import cprint\n",
    "\n",
    "builder = SparkSession.builder.appName(\"mapPartitions\") \\\n",
    "    .config(\"spark.sql.extensions\", \"io.delta.sql.DeltaSparkSessionExtension\") \\\n",
    "    .config(\"spark.sql.catalog.spark_catalog\", \"org.apache.spark.sql.delta.catalog.DeltaCatalog\")\n",
    "\n",
    "spark = configure_spark_with_delta_pip(builder).getOrCreate()"
   ]
  },
  {
   "cell_type": "code",
   "execution_count": 2,
   "metadata": {},
   "outputs": [
    {
     "name": "stderr",
     "output_type": "stream",
     "text": [
      "                                                                                \r"
     ]
    },
    {
     "name": "stdout",
     "output_type": "stream",
     "text": [
      "+--------+\n",
      "|    text|\n",
      "+--------+\n",
      "|[TEST-A]|\n",
      "|[TEST-B]|\n",
      "|[TEST-C]|\n",
      "|[TEST-D]|\n",
      "|[TEST-E]|\n",
      "|[TEST-F]|\n",
      "+--------+\n",
      "\n",
      "+------+\n",
      "|  text|\n",
      "+------+\n",
      "|test-c|\n",
      "|test-e|\n",
      "|test-a|\n",
      "|test-b|\n",
      "|test-d|\n",
      "|test-f|\n",
      "+------+\n",
      "\n"
     ]
    }
   ],
   "source": [
    "def generator(partition):\n",
    "    \"\"\"\n",
    "    Function yielding some result created by some function applied to each row of a partition (in this case lower-casing a string)\n",
    "\n",
    "    @partition: iterator-object of partition\n",
    "    \"\"\"\n",
    "\n",
    "    for row in partition:\n",
    "        yield [word.lower() for word in row[\"text\"]]\n",
    "\n",
    "\n",
    "df = spark.createDataFrame([([\"TEST-A\"], ), ([\"TEST-B\"], ),([\"TEST-C\"], ), ([\"TEST-D\"], ),([\"TEST-E\"], ), ([\"TEST-F\"], )], [\"text\"])\n",
    "df.show()\n",
    "df = df.repartition(3)\n",
    "\n",
    "# mapPartitions applies a function on each partition of an RDD. Hence, parallelization can be used if the partitions are distributed over different nodes.\n",
    "df.rdd.mapPartitions(generator).toDF([\"text\"]).show()\n"
   ]
  },
  {
   "cell_type": "markdown",
   "metadata": {},
   "source": [
    "### mapPartitions(f, preservesPartitioning=False)\n",
    "Return a new RDD by applying a function to each partition of this RDD."
   ]
  },
  {
   "cell_type": "code",
   "execution_count": null,
   "metadata": {},
   "outputs": [
    {
     "data": {
      "text/plain": [
       "[7, 10]"
      ]
     },
     "execution_count": 5,
     "metadata": {},
     "output_type": "execute_result"
    }
   ],
   "source": [
    "\n",
    "rdd = spark.sparkContext.parallelize([5, 2, 6, 4], 2)   #  parelize in 2 partitions [5, 2]  and [6, 4]\n",
    "\n",
    "def f(iterator): \n",
    "    yield sum(iterator)\n",
    "\n",
    "rdd.mapPartitions(f).collect()\n"
   ]
  },
  {
   "cell_type": "markdown",
   "metadata": {},
   "source": [
    "### mapPartitionsWithIndex(f, preservesPartitioning=False)\n",
    "Return a new RDD by applying a function to each partition of this RDD, while tracking the index of the original partition."
   ]
  },
  {
   "cell_type": "code",
   "execution_count": 9,
   "metadata": {},
   "outputs": [
    {
     "name": "stdout",
     "output_type": "stream",
     "text": [
      "[0, 1, 2, 3]\n"
     ]
    }
   ],
   "source": [
    "rdd = spark.sparkContext.parallelize([1, 2, (3, 4), 5], 4)\n",
    "\n",
    "def f(splitIndex, iterator): \n",
    "    yield splitIndex\n",
    "\n",
    "partition_indexes = rdd.mapPartitionsWithIndex(f)\n",
    "\n",
    "# Collect and print the results\n",
    "print(partition_indexes.collect())"
   ]
  },
  {
   "cell_type": "code",
   "execution_count": null,
   "metadata": {},
   "outputs": [],
   "source": []
  }
 ],
 "metadata": {
  "kernelspec": {
   "display_name": "Python 3",
   "language": "python",
   "name": "python3"
  },
  "language_info": {
   "codemirror_mode": {
    "name": "ipython",
    "version": 3
   },
   "file_extension": ".py",
   "mimetype": "text/x-python",
   "name": "python",
   "nbconvert_exporter": "python",
   "pygments_lexer": "ipython3",
   "version": "3.10.12"
  },
  "orig_nbformat": 4
 },
 "nbformat": 4,
 "nbformat_minor": 2
}
