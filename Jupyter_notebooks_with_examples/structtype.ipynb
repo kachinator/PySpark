{
 "cells": [
  {
   "cell_type": "markdown",
   "metadata": {},
   "source": [
    "# StructType & StructField\n",
    "`StructType` & `StructField` classes are used to programmatically specify the schema to the DataFrame and creating complex columns like nested struct, array and map columns. `StructType` is a collection of `StructField’s` that defines column name, column data type, boolean to specify if the field can be nullable or not and metadata.\n",
    "\n",
    "## StructType – Defines the structure of the Dataframe\n",
    "PySpark provides from pyspark.sql.types import `StructType` class to define the structure of the DataFrame.\n",
    "\n",
    "`StructType` is a collection or list of `StructField` objects.\n",
    "\n",
    "`printSchema()` method on the DataFrame shows `StructType` columns as “struct”.\n",
    "\n",
    "## StructField – Defines the metadata of the DataFrame column\n",
    "PySpark provides pyspark.sql.types import `StructField` class to define the columns which includes column name(String), column type (DataType), nullable column (Boolean) and metadata (MetaData)\n",
    "\n",
    "## Using PySpark StructType & StructField with DataFrame\n",
    "While creating a PySpark DataFrame we can specify the structure using `StructType` and `StructField` classes. As specified, `StructType` is a collection of `StructField’s` which is used to define the column name, data type, and a flag for nullable or not. Using `StructField` we can also add nested struct schema, `ArrayType` for arrays, and `MapType` for key-value pairs.\n",
    "\n",
    "The below example demonstrates a very simple example of how to create a StructType & StructField on DataFrame and it’s usage with sample data to support it."
   ]
  },
  {
   "cell_type": "code",
   "execution_count": 29,
   "metadata": {},
   "outputs": [
    {
     "name": "stdout",
     "output_type": "stream",
     "text": [
      "root\n",
      " |-- firstname: string (nullable = true)\n",
      " |-- middlename: string (nullable = true)\n",
      " |-- lastname: string (nullable = true)\n",
      " |-- id: string (nullable = true)\n",
      " |-- gender: string (nullable = true)\n",
      " |-- salary: integer (nullable = true)\n",
      "\n",
      "+---------+----------+--------+-----+------+------+\n",
      "|firstname|middlename|lastname|id   |gender|salary|\n",
      "+---------+----------+--------+-----+------+------+\n",
      "|James    |          |Smith   |36636|M     |3000  |\n",
      "|Michael  |Rose      |        |40288|M     |4000  |\n",
      "|Robert   |          |Williams|42114|M     |4000  |\n",
      "|Maria    |Anne      |Jones   |39192|F     |4000  |\n",
      "|Jen      |Mary      |Brown   |     |F     |-1    |\n",
      "+---------+----------+--------+-----+------+------+\n",
      "\n"
     ]
    }
   ],
   "source": [
    "from pyspark.sql import SparkSession\n",
    "from pyspark.sql.types import StructType,StructField, StringType, IntegerType\n",
    "\n",
    "spark = SparkSession.builder.appName('structtype').getOrCreate()\n",
    "\n",
    "data = [(\"James\",\"\",\"Smith\",\"36636\",\"M\",3000),\n",
    "        (\"Michael\",\"Rose\",\"\",\"40288\",\"M\",4000),\n",
    "        (\"Robert\",\"\",\"Williams\",\"42114\",\"M\",4000),\n",
    "        (\"Maria\",\"Anne\",\"Jones\",\"39192\",\"F\",4000),\n",
    "        (\"Jen\",\"Mary\",\"Brown\",\"\",\"F\",-1)\n",
    "       ]\n",
    "\n",
    "schema = StructType([ \\\n",
    "        StructField(\"firstname\",StringType(),True), \\\n",
    "        StructField(\"middlename\",StringType(),True), \\\n",
    "        StructField(\"lastname\",StringType(),True), \\\n",
    "        StructField(\"id\", StringType(), True), \\\n",
    "        StructField(\"gender\", StringType(), True), \\\n",
    "        StructField(\"salary\", IntegerType(), True) \\\n",
    "  ])\n",
    " \n",
    "df = spark.createDataFrame(data=data,schema=schema)\n",
    "df.printSchema()\n",
    "df.show(truncate=False)"
   ]
  },
  {
   "cell_type": "markdown",
   "metadata": {},
   "source": [
    "## Defining Nested StructType object struct\n",
    "nested struct column can be defined using StructType."
   ]
  },
  {
   "cell_type": "code",
   "execution_count": 30,
   "metadata": {},
   "outputs": [
    {
     "name": "stdout",
     "output_type": "stream",
     "text": [
      "root\n",
      " |-- name: struct (nullable = true)\n",
      " |    |-- firstname: string (nullable = true)\n",
      " |    |-- middlename: string (nullable = true)\n",
      " |    |-- lastname: string (nullable = true)\n",
      " |-- id: string (nullable = true)\n",
      " |-- gender: string (nullable = true)\n",
      " |-- salary: integer (nullable = true)\n",
      "\n",
      "+--------------------+-----+------+------+\n",
      "|name                |id   |gender|salary|\n",
      "+--------------------+-----+------+------+\n",
      "|{James, , Smith}    |36636|M     |3100  |\n",
      "|{Michael, Rose, }   |40288|M     |4300  |\n",
      "|{Robert, , Williams}|42114|M     |1400  |\n",
      "|{Maria, Anne, Jones}|39192|F     |5500  |\n",
      "|{Jen, Mary, Brown}  |     |F     |-1    |\n",
      "+--------------------+-----+------+------+\n",
      "\n"
     ]
    }
   ],
   "source": [
    "structureData = [\n",
    "                ((\"James\",\"\",\"Smith\"),\"36636\",\"M\",3100),\n",
    "                ((\"Michael\",\"Rose\",\"\"),\"40288\",\"M\",4300),\n",
    "                ((\"Robert\",\"\",\"Williams\"),\"42114\",\"M\",1400),\n",
    "                ((\"Maria\",\"Anne\",\"Jones\"),\"39192\",\"F\",5500),\n",
    "                ((\"Jen\",\"Mary\",\"Brown\"),\"\",\"F\",-1)\n",
    "                ]\n",
    "structureSchema = StructType([\n",
    "                    StructField('name', \n",
    "                            StructType([\n",
    "                            StructField('firstname', StringType(), True),\n",
    "                            StructField('middlename', StringType(), True),\n",
    "                            StructField('lastname', StringType(), True)\n",
    "                                ])),\n",
    "                    StructField('id', StringType(), True),\n",
    "                    StructField('gender', StringType(), True),\n",
    "                    StructField('salary', IntegerType(), True)\n",
    "                    ])\n",
    "\n",
    "df2 = spark.createDataFrame(data=structureData,schema=structureSchema)\n",
    "df2.printSchema()\n",
    "df2.show(truncate=False)"
   ]
  },
  {
   "cell_type": "markdown",
   "metadata": {},
   "source": [
    "## Adding & Changing struct of the DataFrame\n",
    "Using PySpark SQL function 'struct()', we can change the struct of the existing DataFrame and add a new 'StructType' to it. The below example demonstrates how to copy the columns from one structure to another and adding a new column. PySpark Column Class also provides some functions to work with the StructType column."
   ]
  },
  {
   "cell_type": "code",
   "execution_count": 31,
   "metadata": {},
   "outputs": [
    {
     "name": "stdout",
     "output_type": "stream",
     "text": [
      "root\n",
      " |-- name: struct (nullable = true)\n",
      " |    |-- firstname: string (nullable = true)\n",
      " |    |-- middlename: string (nullable = true)\n",
      " |    |-- lastname: string (nullable = true)\n",
      " |-- id: string (nullable = true)\n",
      " |-- gender: string (nullable = true)\n",
      " |-- salary: integer (nullable = true)\n",
      "\n",
      "root\n",
      " |-- name: struct (nullable = true)\n",
      " |    |-- firstname: string (nullable = true)\n",
      " |    |-- middlename: string (nullable = true)\n",
      " |    |-- lastname: string (nullable = true)\n",
      " |-- OtherInfo: struct (nullable = false)\n",
      " |    |-- identifier: string (nullable = true)\n",
      " |    |-- gender: string (nullable = true)\n",
      " |    |-- salary: integer (nullable = true)\n",
      " |    |-- Salary_Grade: string (nullable = false)\n",
      "\n",
      "+--------------------+------------------------+\n",
      "|name                |OtherInfo               |\n",
      "+--------------------+------------------------+\n",
      "|{James, , Smith}    |{36636, M, 3100, Medium}|\n",
      "|{Michael, Rose, }   |{40288, M, 4300, High}  |\n",
      "|{Robert, , Williams}|{42114, M, 1400, Low}   |\n",
      "|{Maria, Anne, Jones}|{39192, F, 5500, High}  |\n",
      "|{Jen, Mary, Brown}  |{, F, -1, Low}          |\n",
      "+--------------------+------------------------+\n",
      "\n"
     ]
    }
   ],
   "source": [
    "from pyspark.sql.functions import col,struct,when\n",
    "\n",
    "df2.printSchema()\n",
    "\n",
    "updatedDF = df2.withColumn(\"OtherInfo\", \n",
    "                            struct( col(\"id\").alias(\"identifier\"),\n",
    "                                    col(\"gender\").alias(\"gender\"),\n",
    "                                    col(\"salary\").alias(\"salary\"),\n",
    "                                    when(col(\"salary\").cast(IntegerType()) < 2000,\"Low\")\n",
    "                                    .when(col(\"salary\").cast(IntegerType()) < 4000,\"Medium\")\n",
    "                                    .otherwise(\"High\").alias(\"Salary_Grade\")\n",
    "                                    )\n",
    "                            ).drop(\"id\",\"gender\",\"salary\")\n",
    "\n",
    "updatedDF.printSchema()\n",
    "updatedDF.show(truncate=False)"
   ]
  },
  {
   "cell_type": "markdown",
   "metadata": {},
   "source": [
    "## Using SQL ArrayType and MapType\n",
    "SQL `StructType` also supports `ArrayType` and `MapType` to define the DataFrame columns for array and map collections respectively. On the example, column hobbies defined as ArrayType(StringType) and properties defined as MapType(StringType,StringType) meaning both key and value as String."
   ]
  },
  {
   "cell_type": "code",
   "execution_count": 32,
   "metadata": {},
   "outputs": [
    {
     "name": "stdout",
     "output_type": "stream",
     "text": [
      "root\n",
      " |-- name: struct (nullable = true)\n",
      " |    |-- firstname: string (nullable = true)\n",
      " |    |-- middlename: string (nullable = true)\n",
      " |    |-- lastname: string (nullable = true)\n",
      " |-- hobbies: array (nullable = true)\n",
      " |    |-- element: string (containsNull = true)\n",
      " |-- properties: map (nullable = true)\n",
      " |    |-- key: string\n",
      " |    |-- value: integer (valueContainsNull = true)\n",
      "\n",
      "+--------------------+------------------+-------------------+\n",
      "|name                |hobbies           |properties         |\n",
      "+--------------------+------------------+-------------------+\n",
      "|{James, , Smith}    |[soccer, tennis]  |{IT -> 3100}       |\n",
      "|{Michael, Rose, }   |[football, chess] |{Sales -> 4300}    |\n",
      "|{Robert, , Williams}|[swimming, hikimg]|{Marketing -> 1400}|\n",
      "|{Maria, Anne, Jones}|[soccer, hiking]  |{CTO -> 5500}      |\n",
      "|{Jen, Mary, Brown}  |[poker, gardening]|{Cleaning -> -1}   |\n",
      "+--------------------+------------------+-------------------+\n",
      "\n"
     ]
    }
   ],
   "source": [
    "from pyspark.sql.types import ArrayType, MapType\n",
    "\n",
    "arrayStructureSchema = StructType([\n",
    "                                    StructField('name', \n",
    "                                            StructType([\n",
    "                                                StructField('firstname', StringType(), True),\n",
    "                                                StructField('middlename', StringType(), True),\n",
    "                                                StructField('lastname', StringType(), True)\n",
    "                                                        ])\n",
    "                                                ),\n",
    "                                    StructField('hobbies', ArrayType(StringType()), True),\n",
    "                                    StructField('properties', MapType(StringType(),IntegerType()), True)\n",
    "                                    ])\n",
    "\n",
    "structureData = [\n",
    "                ((\"James\",\"\",\"Smith\"),(\"soccer\", \"tennis\"),{\"IT\":3100}),\n",
    "                ((\"Michael\",\"Rose\",\"\"),(\"football\", \"chess\"),{\"Sales\":4300}),\n",
    "                ((\"Robert\",\"\",\"Williams\"),(\"swimming\", \"hikimg\"),{\"Marketing\":1400}),\n",
    "                ((\"Maria\",\"Anne\",\"Jones\"),(\"soccer\", \"hiking\"),{\"CTO\":5500}),\n",
    "                ((\"Jen\",\"Mary\",\"Brown\"),(\"poker\", \"gardening\"),{\"Cleaning\":-1})\n",
    "                ]\n",
    "\n",
    "df3 = spark.createDataFrame(data=structureData,schema=arrayStructureSchema)\n",
    "df3.printSchema()\n",
    "df3.show(truncate=False)                                    "
   ]
  },
  {
   "cell_type": "markdown",
   "metadata": {},
   "source": [
    "## Creating StructType object struct from JSON file\n",
    "If you have too many columns and the structure of the DataFrame changes now and then, it’s a good practice to load the SQL `StructType` schema from JSON file. You can get the schema by using df2.schema.json() , store this in a file and will use it to create a the schema from this file."
   ]
  },
  {
   "cell_type": "code",
   "execution_count": 33,
   "metadata": {},
   "outputs": [
    {
     "name": "stdout",
     "output_type": "stream",
     "text": [
      "{\n",
      "    \"fields\": [\n",
      "        {\n",
      "            \"metadata\": {},\n",
      "            \"name\": \"name\",\n",
      "            \"nullable\": true,\n",
      "            \"type\": {\n",
      "                \"fields\": [\n",
      "                    {\n",
      "                        \"metadata\": {},\n",
      "                        \"name\": \"firstname\",\n",
      "                        \"nullable\": true,\n",
      "                        \"type\": \"string\"\n",
      "                    },\n",
      "                    {\n",
      "                        \"metadata\": {},\n",
      "                        \"name\": \"middlename\",\n",
      "                        \"nullable\": true,\n",
      "                        \"type\": \"string\"\n",
      "                    },\n",
      "                    {\n",
      "                        \"metadata\": {},\n",
      "                        \"name\": \"lastname\",\n",
      "                        \"nullable\": true,\n",
      "                        \"type\": \"string\"\n",
      "                    }\n",
      "                ],\n",
      "                \"type\": \"struct\"\n",
      "            }\n",
      "        },\n",
      "        {\n",
      "            \"metadata\": {},\n",
      "            \"name\": \"id\",\n",
      "            \"nullable\": true,\n",
      "            \"type\": \"string\"\n",
      "        },\n",
      "        {\n",
      "            \"metadata\": {},\n",
      "            \"name\": \"gender\",\n",
      "            \"nullable\": true,\n",
      "            \"type\": \"string\"\n",
      "        },\n",
      "        {\n",
      "            \"metadata\": {},\n",
      "            \"name\": \"salary\",\n",
      "            \"nullable\": true,\n",
      "            \"type\": \"integer\"\n",
      "        }\n",
      "    ],\n",
      "    \"type\": \"struct\"\n",
      "}\n"
     ]
    }
   ],
   "source": [
    "import json\n",
    "\n",
    "print(json.dumps(json.loads(df2.schema.json()), indent=4))\n",
    "\n",
    "with open('./resources/json_files/data_schema.json', 'w') as f:\n",
    "    f.write(df2.schema.json())"
   ]
  },
  {
   "cell_type": "code",
   "execution_count": 34,
   "metadata": {},
   "outputs": [
    {
     "name": "stdout",
     "output_type": "stream",
     "text": [
      "root\n",
      " |-- name: struct (nullable = true)\n",
      " |    |-- firstname: string (nullable = true)\n",
      " |    |-- middlename: string (nullable = true)\n",
      " |    |-- lastname: string (nullable = true)\n",
      " |-- id: string (nullable = true)\n",
      " |-- gender: string (nullable = true)\n",
      " |-- salary: integer (nullable = true)\n",
      "\n"
     ]
    }
   ],
   "source": [
    "json_file_path = './resources/json_files/data_schema.json'\n",
    "\n",
    "with open(json_file_path, 'r') as j:\n",
    "    contents = json.loads(j.read())\n",
    "    schemaFromJson = StructType.fromJson(contents)\n",
    "    df4 = spark.createDataFrame( spark.sparkContext.parallelize(structureData),schemaFromJson)\n",
    "    df4.printSchema()"
   ]
  },
  {
   "cell_type": "markdown",
   "metadata": {},
   "source": [
    "## Checking if a Column Exists in a DataFrame\n",
    "If you want to perform some checks on metadata of the DataFrame, for example, if a column or field exists in a DataFrame or data type of column; we can easily do this using several functions on SQL 'StructType' and 'StructField'"
   ]
  },
  {
   "cell_type": "code",
   "execution_count": 35,
   "metadata": {},
   "outputs": [
    {
     "name": "stdout",
     "output_type": "stream",
     "text": [
      "True\n",
      "StructType([StructField('name', StructType([StructField('firstname', StringType(), True), StructField('middlename', StringType(), True), StructField('lastname', StringType(), True)]), True), StructField('id', StringType(), True), StructField('gender', StringType(), True), StructField('salary', IntegerType(), True)])\n"
     ]
    }
   ],
   "source": [
    "print(\"name\" in df4.schema.fieldNames())\n",
    "print(df4.schema)"
   ]
  },
  {
   "cell_type": "markdown",
   "metadata": {},
   "source": [
    "## Convert StructType (struct) to Dictionary/MapType (map)\n",
    "PySpark provides a `create_map()` function that takes a list of column types as an argument and returns a `MapType` column, so we can use this to convert the DataFrame struct column to map Type. struct is a type of `StructType` and `MapType` is used to store Dictionary key-value pair."
   ]
  },
  {
   "cell_type": "code",
   "execution_count": 36,
   "metadata": {},
   "outputs": [
    {
     "name": "stdout",
     "output_type": "stream",
     "text": [
      "root\n",
      " |-- id: string (nullable = true)\n",
      " |-- dept: string (nullable = true)\n",
      " |-- properties: struct (nullable = true)\n",
      " |    |-- salary: integer (nullable = true)\n",
      " |    |-- location: string (nullable = true)\n",
      "\n",
      "+-----+---------+-----------+\n",
      "|id   |dept     |properties |\n",
      "+-----+---------+-----------+\n",
      "|36636|Finance  |{3000, USA}|\n",
      "|40288|Finance  |{5000, IND}|\n",
      "|42114|Sales    |{3900, USA}|\n",
      "|39192|Marketing|{2500, CAN}|\n",
      "|34534|Sales    |{6500, USA}|\n",
      "+-----+---------+-----------+\n",
      "\n"
     ]
    }
   ],
   "source": [
    "data = [(\"36636\",\"Finance\",(3000,\"USA\")), \n",
    "        (\"40288\",\"Finance\",(5000,\"IND\")), \n",
    "        (\"42114\",\"Sales\",(3900,\"USA\")), \n",
    "        (\"39192\",\"Marketing\",(2500,\"CAN\")), \n",
    "        (\"34534\",\"Sales\",(6500,\"USA\")) ]\n",
    "\n",
    "schema = StructType([\n",
    "            StructField('id', StringType(), True),\n",
    "            StructField('dept', StringType(), True),\n",
    "            StructField('properties', StructType([\n",
    "                        StructField('salary', IntegerType(), True),\n",
    "                        StructField('location', StringType(), True)\n",
    "                            ])\n",
    "                        )\n",
    "     ])\n",
    "\n",
    "df = spark.createDataFrame(data=data,schema=schema)\n",
    "df.printSchema()\n",
    "df.show(truncate=False)"
   ]
  },
  {
   "cell_type": "markdown",
   "metadata": {},
   "source": [
    "### Convert StructType to MapType (map) Column\n",
    "`create_map()` is a PySpark SQL function that is used to convert `StructType` to `MapType` column."
   ]
  },
  {
   "cell_type": "code",
   "execution_count": 37,
   "metadata": {},
   "outputs": [
    {
     "name": "stdout",
     "output_type": "stream",
     "text": [
      "+-----+---------+--------+------+\n",
      "|   id|     dept|location|salary|\n",
      "+-----+---------+--------+------+\n",
      "|36636|  Finance|     USA|  3000|\n",
      "|40288|  Finance|     IND|  5000|\n",
      "|42114|    Sales|     USA|  3900|\n",
      "|39192|Marketing|     CAN|  2500|\n",
      "|34534|    Sales|     USA|  6500|\n",
      "+-----+---------+--------+------+\n",
      "\n",
      "root\n",
      " |-- id: string (nullable = true)\n",
      " |-- dept: string (nullable = true)\n",
      " |-- location: string (nullable = true)\n",
      " |-- salary: integer (nullable = true)\n",
      " |-- propertiesMap: map (nullable = false)\n",
      " |    |-- key: string\n",
      " |    |-- value: long (valueContainsNull = true)\n",
      "\n"
     ]
    }
   ],
   "source": [
    "#Convert struct type to Map\n",
    "from pyspark.sql.functions import col,lit,create_map\n",
    "\n",
    "df1 = df.withColumn('location', df.properties.location).withColumn('salary', df.properties.salary).drop(\"properties\")\n",
    "\n",
    "df1.show()\n",
    "\n",
    "df2 = df1.withColumn(\"propertiesMap\",\n",
    "                    create_map( lit(\"location\"),col(\"location\"),                        \n",
    "                                lit(\"salary\"),col(\"salary\")                        \n",
    "                    )\n",
    "        )\n",
    "\n",
    "df2.printSchema()"
   ]
  },
  {
   "cell_type": "code",
   "execution_count": null,
   "metadata": {},
   "outputs": [],
   "source": []
  }
 ],
 "metadata": {
  "kernelspec": {
   "display_name": "Python 3",
   "language": "python",
   "name": "python3"
  },
  "language_info": {
   "codemirror_mode": {
    "name": "ipython",
    "version": 3
   },
   "file_extension": ".py",
   "mimetype": "text/x-python",
   "name": "python",
   "nbconvert_exporter": "python",
   "pygments_lexer": "ipython3",
   "version": "3.10.12"
  },
  "orig_nbformat": 4
 },
 "nbformat": 4,
 "nbformat_minor": 2
}
