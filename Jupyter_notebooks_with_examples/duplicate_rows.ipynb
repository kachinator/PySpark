{
 "cells": [
  {
   "cell_type": "code",
   "execution_count": 16,
   "metadata": {},
   "outputs": [
    {
     "name": "stderr",
     "output_type": "stream",
     "text": [
      "25/08/08 18:42:27 WARN SparkSession: Using an existing Spark session; only runtime SQL configurations will take effect.\n"
     ]
    }
   ],
   "source": [
    "from pyspark.sql import SparkSession\n",
    "from delta import *\n",
    "from termcolor import cprint\n",
    "\n",
    "# builder = SparkSession.builder.appName(\"add_duplicates\") \\\n",
    "#     .config(\"spark.sql.extensions\", \"io.delta.sql.DeltaSparkSessionExtension\") \\\n",
    "#     .config(\"spark.sql.catalog.spark_catalog\", \"org.apache.spark.sql.delta.catalog.DeltaCatalog\")\n",
    "\n",
    "# spark = configure_spark_with_delta_pip(builder).getOrCreate()\n",
    "\n",
    "spark = SparkSession.builder.appName('duplicate_rows').getOrCreate()"
   ]
  },
  {
   "cell_type": "code",
   "execution_count": 17,
   "metadata": {},
   "outputs": [
    {
     "name": "stdout",
     "output_type": "stream",
     "text": [
      "+---+---+---+\n",
      "|  A|  B|  n|\n",
      "+---+---+---+\n",
      "|  1|  2|  1|\n",
      "|  2|  9|  1|\n",
      "|  3|  8|  2|\n",
      "|  4|  1|  1|\n",
      "|  5|  3|  3|\n",
      "+---+---+---+\n",
      "\n",
      "+---+---+---+\n",
      "|  A|  B|  n|\n",
      "+---+---+---+\n",
      "|  1|  2|  1|\n",
      "|  2|  9|  1|\n",
      "|  3|  8|  2|\n",
      "|  3|  8|  2|\n",
      "|  4|  1|  1|\n",
      "|  5|  3|  3|\n",
      "|  5|  3|  3|\n",
      "|  5|  3|  3|\n",
      "+---+---+---+\n",
      "\n"
     ]
    }
   ],
   "source": [
    "from pyspark.sql.functions import expr\n",
    "\n",
    "df = spark.createDataFrame([(1,2,1), (2,9,1), (3,8,2), (4,1,1), (5,3,3)], [\"A\", \"B\", \"n\"])\n",
    "df.show()\n",
    "new_df = df.withColumn('n', expr('explode(array_repeat(n,int(n)))'))\n",
    "new_df.show()"
   ]
  },
  {
   "cell_type": "markdown",
   "metadata": {},
   "source": [
    "### Add random duplicates of rows from the same dataframe\n",
    "\n",
    "`sample(replacement, fraction)` - Returns a sampled subset of df,  \n",
    " * replacement ==True means duplicate values exist, while false means there are no duplicates \n",
    " * fraction of rows to generate (range[0.0, 1,0])\n",
    " \n",
    "then union duplicates with original df"
   ]
  },
  {
   "cell_type": "code",
   "execution_count": 18,
   "metadata": {},
   "outputs": [
    {
     "name": "stdout",
     "output_type": "stream",
     "text": [
      "+---+---+---+\n",
      "|  A|  B|  n|\n",
      "+---+---+---+\n",
      "|  1|  2|  1|\n",
      "|  2|  9|  1|\n",
      "|  3|  8|  2|\n",
      "|  4|  1|  1|\n",
      "|  5|  3|  3|\n",
      "|  1|  2|  1|\n",
      "|  2|  9|  1|\n",
      "+---+---+---+\n",
      "\n"
     ]
    }
   ],
   "source": [
    "import random\n",
    "\n",
    "# randomly add any number or rows from 1 to 3, around the middle of df\n",
    "with_dup = df.union(df.sample(False, 0.5).limit(random.randint(1,3)))\n",
    "\n",
    "with_dup.show()"
   ]
  },
  {
   "cell_type": "code",
   "execution_count": 19,
   "metadata": {},
   "outputs": [
    {
     "name": "stdout",
     "output_type": "stream",
     "text": [
      "+---+---+---+\n",
      "|  A|  B|  n|\n",
      "+---+---+---+\n",
      "|  1|  2|  1|\n",
      "|  2|  9|  1|\n",
      "|  3|  8|  2|\n",
      "|  4|  1|  1|\n",
      "|  5|  3|  3|\n",
      "+---+---+---+\n",
      "\n"
     ]
    }
   ],
   "source": [
    "with_dup = df.union(df.sample(False, 0.1).limit(random.randint(1,3)))\n",
    "\n",
    "with_dup.show()"
   ]
  },
  {
   "cell_type": "code",
   "execution_count": 20,
   "metadata": {},
   "outputs": [
    {
     "name": "stdout",
     "output_type": "stream",
     "text": [
      "+---+---+---+\n",
      "|  A|  B|  n|\n",
      "+---+---+---+\n",
      "|  1|  2|  1|\n",
      "|  2|  9|  1|\n",
      "|  3|  8|  2|\n",
      "|  4|  1|  1|\n",
      "|  5|  3|  3|\n",
      "|  1|  2|  1|\n",
      "+---+---+---+\n",
      "\n"
     ]
    }
   ],
   "source": [
    "with_dup = df.union(df.sample(True, 0.5).limit(random.randint(1,3)))\n",
    "\n",
    "with_dup.show()"
   ]
  }
 ],
 "metadata": {
  "kernelspec": {
   "display_name": "Python 3",
   "language": "python",
   "name": "python3"
  },
  "language_info": {
   "codemirror_mode": {
    "name": "ipython",
    "version": 3
   },
   "file_extension": ".py",
   "mimetype": "text/x-python",
   "name": "python",
   "nbconvert_exporter": "python",
   "pygments_lexer": "ipython3",
   "version": "3.10.12"
  },
  "orig_nbformat": 4
 },
 "nbformat": 4,
 "nbformat_minor": 2
}
