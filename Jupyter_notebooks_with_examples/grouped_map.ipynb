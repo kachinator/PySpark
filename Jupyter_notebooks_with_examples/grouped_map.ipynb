{
 "cells": [
  {
   "cell_type": "code",
   "execution_count": 36,
   "metadata": {},
   "outputs": [],
   "source": [
    "from pyspark.sql import SparkSession\n",
    "\n",
    "spark = SparkSession.builder.appName('grouped_map').getOrCreate()"
   ]
  },
  {
   "cell_type": "markdown",
   "metadata": {},
   "source": [
    "### Grouped Map\n",
    "\n",
    "`applyInPandas()`  maps each group to each pandas.DataFrame. In the function, `subtract_mean()` is defined as a standard Python function with a type hint. This function is useful for applying a transformation to an entire DataFrame."
   ]
  },
  {
   "cell_type": "code",
   "execution_count": 37,
   "metadata": {},
   "outputs": [
    {
     "name": "stdout",
     "output_type": "stream",
     "text": [
      "+---+----+\n",
      "| id|   v|\n",
      "+---+----+\n",
      "|  1| 1.0|\n",
      "|  2| 5.0|\n",
      "|  1| 2.0|\n",
      "|  2|10.0|\n",
      "|  2| 3.0|\n",
      "+---+----+\n",
      "\n"
     ]
    }
   ],
   "source": [
    "import pandas as pd\n",
    "\n",
    "df = spark.createDataFrame([(1,1.0),(2,5.0),(1,2.0),(2,10.0),(2,3.0)], (\"id\", \"v\"))\n",
    "df.show()\n"
   ]
  },
  {
   "cell_type": "code",
   "execution_count": 38,
   "metadata": {},
   "outputs": [
    {
     "name": "stdout",
     "output_type": "stream",
     "text": [
      "+---+----+\n",
      "| id|   v|\n",
      "+---+----+\n",
      "|  1|-0.5|\n",
      "|  1| 0.5|\n",
      "|  2|-1.0|\n",
      "|  2| 4.0|\n",
      "|  2|-3.0|\n",
      "+---+----+\n",
      "\n"
     ]
    }
   ],
   "source": [
    "def substract_mean(pdf: pd.DataFrame) -> pd.DataFrame:\n",
    "  v = pdf.v\n",
    "  return pdf.assign(v=v-v.mean())\n",
    "    \n",
    "df.groupby(\"id\").applyInPandas( substract_mean, schema = df.schema).show()"
   ]
  },
  {
   "cell_type": "markdown",
   "metadata": {},
   "source": [
    "### Map\n",
    "\n",
    "`mapInPandas()` maps every batch in each partition and transforms each. The function takes an iterator of `pandas.DataFrame`. The output length does not need to match the input size. This can operate on individual columns and are useful if you do not need to transform every column in a DataFrame\n"
   ]
  },
  {
   "cell_type": "code",
   "execution_count": 39,
   "metadata": {},
   "outputs": [
    {
     "name": "stdout",
     "output_type": "stream",
     "text": [
      "+---+---+\n",
      "| id|age|\n",
      "+---+---+\n",
      "|  2| 31|\n",
      "|  1| 22|\n",
      "|  2| 30|\n",
      "|  1| 21|\n",
      "+---+---+\n",
      "\n"
     ]
    }
   ],
   "source": [
    "from typing import Iterator\n",
    "import pandas as pd\n",
    "\n",
    "df = spark.createDataFrame([(2,31),(1,22), (2,30),(1,21)], (\"id\", \"age\"))\n",
    "df.show()"
   ]
  },
  {
   "cell_type": "code",
   "execution_count": 40,
   "metadata": {},
   "outputs": [
    {
     "name": "stdout",
     "output_type": "stream",
     "text": [
      "+---+---+\n",
      "| id|age|\n",
      "+---+---+\n",
      "|  1| 22|\n",
      "|  1| 21|\n",
      "+---+---+\n",
      "\n"
     ]
    }
   ],
   "source": [
    "# Iterator of Series to iterator of series\n",
    "def pandas_filter(iterator: Iterator[pd.DataFrame]) -> Iterator[pd.DataFrame]:\n",
    "  for pdf in iterator:\n",
    "    yield pdf[pdf.id ==1]\n",
    "    \n",
    "df.mapInPandas( pandas_filter, schema = df.schema).show()"
   ]
  },
  {
   "cell_type": "markdown",
   "metadata": {},
   "source": [
    "### Co-Grouped Map\n",
    "Similar to the grouped map, this function maps each group to each `pandas.DataFrame` in the function, but it groups with another DataFrame by common key(s) an then the function is applied to each co-group. As in `mapInPandas()`, there is no restriction on output length."
   ]
  },
  {
   "cell_type": "code",
   "execution_count": 41,
   "metadata": {},
   "outputs": [
    {
     "name": "stdout",
     "output_type": "stream",
     "text": [
      "+----+---+---+\n",
      "|time| id| v1|\n",
      "+----+---+---+\n",
      "|1201|  1|1.0|\n",
      "|1201|  2|2.0|\n",
      "|1202|  1|3.0|\n",
      "|1202|  2|4.0|\n",
      "|1203|  3|1.5|\n",
      "+----+---+---+\n",
      "\n",
      "+----+---+---+\n",
      "|time| id| v2|\n",
      "+----+---+---+\n",
      "|1201|  1|  x|\n",
      "|1201|  2|  y|\n",
      "+----+---+---+\n",
      "\n"
     ]
    }
   ],
   "source": [
    "import pandas as pd\n",
    "\n",
    "df1 = spark.createDataFrame([(1201, 1, 1.0),(1201, 2, 2.0),(1202, 1, 3.0),(1202, 2, 4.0), (1203, 3, 1.5)],(\"time\",\"id\",\"v1\"))\n",
    "df1.show()\n",
    "df2 = spark.createDataFrame([(1201, 1, 'x'),(1201, 2, 'y')], (\"time\",\"id\",\"v2\"))\n",
    "df2.show()"
   ]
  },
  {
   "cell_type": "code",
   "execution_count": 42,
   "metadata": {},
   "outputs": [
    {
     "name": "stdout",
     "output_type": "stream",
     "text": [
      "+----+---+---+----+\n",
      "|time| id| v1|  v2|\n",
      "+----+---+---+----+\n",
      "|1201|  1|1.0|   x|\n",
      "|1202|  1|3.0|   x|\n",
      "|1201|  2|2.0|   y|\n",
      "|1202|  2|4.0|   y|\n",
      "|1203|  3|1.5|NULL|\n",
      "+----+---+---+----+\n",
      "\n"
     ]
    }
   ],
   "source": [
    "def asof_join(left: pd.DataFrame, right: pd.DataFrame) -> pd.DataFrame:\n",
    "  return pd.merge_asof(left, right, on=\"time\", by=\"id\")\n",
    "\n",
    "\n",
    "df1.groupby(\"id\").cogroup(df2.groupby(\"id\")).applyInPandas( asof_join, \"time int, id int, v1 double, v2 string\").show()"
   ]
  }
 ],
 "metadata": {
  "kernelspec": {
   "display_name": "Python 3",
   "language": "python",
   "name": "python3"
  },
  "language_info": {
   "codemirror_mode": {
    "name": "ipython",
    "version": 3
   },
   "file_extension": ".py",
   "mimetype": "text/x-python",
   "name": "python",
   "nbconvert_exporter": "python",
   "pygments_lexer": "ipython3",
   "version": "3.10.12"
  },
  "orig_nbformat": 4
 },
 "nbformat": 4,
 "nbformat_minor": 2
}
