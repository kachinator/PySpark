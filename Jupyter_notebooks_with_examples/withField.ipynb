{
 "cells": [
  {
   "cell_type": "code",
   "execution_count": 12,
   "metadata": {},
   "outputs": [],
   "source": [
    "import pyspark\n",
    "from pyspark.sql import SparkSession\n",
    "from pyspark.sql.functions import col\n",
    "from termcolor import cprint \n",
    "\n",
    "spark = SparkSession.builder.appName('withField').getOrCreate()"
   ]
  },
  {
   "cell_type": "markdown",
   "metadata": {},
   "source": [
    "### pyspark.sql.Column.withField\n",
    "#### Column.withField(fieldName, col)[source]  \n",
    "An expression that adds/replaces a field in StructType by name."
   ]
  },
  {
   "cell_type": "code",
   "execution_count": 13,
   "metadata": {},
   "outputs": [
    {
     "name": "stdout",
     "output_type": "stream",
     "text": [
      "+------+\n",
      "|     a|\n",
      "+------+\n",
      "|{1, 2}|\n",
      "+------+\n",
      "\n"
     ]
    }
   ],
   "source": [
    "from pyspark.sql import Row\n",
    "from pyspark.sql.functions import lit\n",
    "df = spark.createDataFrame([Row(a=Row(b=1, c=2))])\n",
    "df.show()"
   ]
  },
  {
   "cell_type": "markdown",
   "metadata": {},
   "source": [
    "#### Modify an element on the struct"
   ]
  },
  {
   "cell_type": "code",
   "execution_count": 14,
   "metadata": {},
   "outputs": [
    {
     "name": "stdout",
     "output_type": "stream",
     "text": [
      "+------+\n",
      "|     a|\n",
      "+------+\n",
      "|{3, 2}|\n",
      "+------+\n",
      "\n"
     ]
    }
   ],
   "source": [
    "df.withColumn('a', df['a'].withField('b', lit(3))).select('a').show()"
   ]
  },
  {
   "cell_type": "markdown",
   "metadata": {},
   "source": [
    "#### Add a new element to the structure 'a'"
   ]
  },
  {
   "cell_type": "code",
   "execution_count": 23,
   "metadata": {},
   "outputs": [
    {
     "name": "stdout",
     "output_type": "stream",
     "text": [
      "+---------+\n",
      "|        a|\n",
      "+---------+\n",
      "|{1, 2, 4}|\n",
      "+---------+\n",
      "\n"
     ]
    }
   ],
   "source": [
    "df.withColumn('a', df['a'].withField('d', lit(4))).show()"
   ]
  },
  {
   "cell_type": "code",
   "execution_count": 16,
   "metadata": {},
   "outputs": [
    {
     "name": "stdout",
     "output_type": "stream",
     "text": [
      "+------+\n",
      "|     a|\n",
      "+------+\n",
      "|{1, 2}|\n",
      "|{5, 6}|\n",
      "|{7, 8}|\n",
      "+------+\n",
      "\n"
     ]
    }
   ],
   "source": [
    "df_1 = spark.createDataFrame([Row(a=Row(b=1, c=2)), Row(a=Row(b=5, c=6)), Row(a=Row(b=7, c=8))])\n",
    "df_1.show()"
   ]
  },
  {
   "cell_type": "code",
   "execution_count": 17,
   "metadata": {},
   "outputs": [
    {
     "name": "stdout",
     "output_type": "stream",
     "text": [
      "+------+\n",
      "|     a|\n",
      "+------+\n",
      "|{3, 2}|\n",
      "|{3, 6}|\n",
      "|{3, 8}|\n",
      "+------+\n",
      "\n"
     ]
    }
   ],
   "source": [
    "df_1.withColumn('a', df_1['a'].withField('b', lit(3))).select('a').show()"
   ]
  },
  {
   "cell_type": "code",
   "execution_count": 18,
   "metadata": {},
   "outputs": [
    {
     "name": "stdout",
     "output_type": "stream",
     "text": [
      "+---------+\n",
      "|        a|\n",
      "+---------+\n",
      "|{1, 2, 4}|\n",
      "|{5, 6, 4}|\n",
      "|{7, 8, 4}|\n",
      "+---------+\n",
      "\n"
     ]
    }
   ],
   "source": [
    "df_1.withColumn('a', df_1['a'].withField('d', lit(4))).select('a').show()"
   ]
  },
  {
   "cell_type": "markdown",
   "metadata": {},
   "source": [
    "An expression that adds/replaces a field in StructType by name."
   ]
  },
  {
   "cell_type": "code",
   "execution_count": 19,
   "metadata": {},
   "outputs": [
    {
     "name": "stdout",
     "output_type": "stream",
     "text": [
      "+------------------+\n",
      "|                 a|\n",
      "+------------------+\n",
      "|[{1, 2}, {10, 20}]|\n",
      "|[{5, 6}, {50, 60}]|\n",
      "|  [{7, 8}, {0, 0}]|\n",
      "+------------------+\n",
      "\n"
     ]
    }
   ],
   "source": [
    "df_2 = spark.createDataFrame([Row(a=[Row(b=1, c=2), Row(b=10, c=20)]), Row(a=[Row(b=5, c=6), Row(b=50, c=60)]), Row(a=[Row(b=7, c=8), Row(b=0, c=0)])])\n",
    "df_2.show()"
   ]
  },
  {
   "cell_type": "code",
   "execution_count": 20,
   "metadata": {},
   "outputs": [
    {
     "name": "stdout",
     "output_type": "stream",
     "text": [
      "root\n",
      " |-- a: array (nullable = true)\n",
      " |    |-- element: struct (containsNull = true)\n",
      " |    |    |-- b: long (nullable = true)\n",
      " |    |    |-- c: long (nullable = true)\n",
      "\n"
     ]
    }
   ],
   "source": [
    "df_2.printSchema()"
   ]
  },
  {
   "cell_type": "code",
   "execution_count": 21,
   "metadata": {},
   "outputs": [
    {
     "name": "stdout",
     "output_type": "stream",
     "text": [
      "+-------+\n",
      "|      a|\n",
      "+-------+\n",
      "|{3, 20}|\n",
      "|{3, 60}|\n",
      "| {3, 0}|\n",
      "+-------+\n",
      "\n"
     ]
    }
   ],
   "source": [
    "df_2.withColumn('a', df_2['a'][1].withField('b', lit(3))).select('a').show()"
   ]
  },
  {
   "cell_type": "code",
   "execution_count": 22,
   "metadata": {},
   "outputs": [
    {
     "name": "stdout",
     "output_type": "stream",
     "text": [
      "+---+---+\n",
      "|  b|  c|\n",
      "+---+---+\n",
      "|  1|  2|\n",
      "| 10| 20|\n",
      "|  5|  6|\n",
      "| 50| 60|\n",
      "|  7|  8|\n",
      "|  0|  0|\n",
      "+---+---+\n",
      "\n"
     ]
    }
   ],
   "source": [
    "import pyspark.sql.functions as F\n",
    "\n",
    "transform_expr = \"\"\"transform(a, x -> struct(coalesce(x.b, 3) as b, x.c as c)) \"\"\"\n",
    "\n",
    "df_3 = df_2.withColumn(\"a\", F.expr(transform_expr))\n",
    "\n",
    "df_3.select(F.expr(\"inline(a)\")).show()"
   ]
  }
 ],
 "metadata": {
  "kernelspec": {
   "display_name": "Python 3",
   "language": "python",
   "name": "python3"
  },
  "language_info": {
   "codemirror_mode": {
    "name": "ipython",
    "version": 3
   },
   "file_extension": ".py",
   "mimetype": "text/x-python",
   "name": "python",
   "nbconvert_exporter": "python",
   "pygments_lexer": "ipython3",
   "version": "3.10.12"
  },
  "orig_nbformat": 4
 },
 "nbformat": 4,
 "nbformat_minor": 2
}
