{
 "cells": [
  {
   "cell_type": "markdown",
   "source": [
    "## When\r\n",
    "PySpark supports a way to check multiple conditions in sequence and returns a value when the first condition met by using SQL like case when and `when()`. `otherwise()` expressions, these works similar to `Switch` and `if then else` statements.\r\n",
    "#### PySpark When Otherwise \r\n",
    "`when()` is a SQL function that returns a Column type and `otherwise()` is a function of Column, if `otherwise()` is not used, it returns a None/NULL value.\r\n",
    "#### PySpark SQL Case When\r\n",
    "This is similar to SQL expression, Usage: `CASE WHEN cond1 THEN result WHEN cond2 THEN result... ELSE result` END."
   ],
   "metadata": {}
  },
  {
   "cell_type": "code",
   "execution_count": 1,
   "source": [
    "from pyspark.sql import SparkSession\r\n",
    "\r\n",
    "spark = SparkSession.builder.appName('when').getOrCreate()\r\n",
    "data = [(\"James\",\"M\",60000),(\"Michael\",\"M\",70000),\r\n",
    "        (\"Robert\",None,400000),(\"Maria\",\"F\",500000),\r\n",
    "        (\"Jen\",\"\",None)]\r\n",
    "\r\n",
    "columns = [\"name\",\"gender\",\"salary\"]\r\n",
    "df = spark.createDataFrame(data = data, schema = columns)\r\n",
    "df.show()"
   ],
   "outputs": [
    {
     "output_type": "stream",
     "name": "stdout",
     "text": [
      "+-------+------+------+\n",
      "|   name|gender|salary|\n",
      "+-------+------+------+\n",
      "|  James|     M| 60000|\n",
      "|Michael|     M| 70000|\n",
      "| Robert|  null|400000|\n",
      "|  Maria|     F|500000|\n",
      "|    Jen|      |  null|\n",
      "+-------+------+------+\n",
      "\n"
     ]
    }
   ],
   "metadata": {}
  },
  {
   "cell_type": "markdown",
   "source": [
    "### Using when() otherwise() on PySpark DataFrame.\r\n",
    "PySpark `when()` is SQL function, in order to use this first you should import and this returns a Column type, `otherwise()` is a function of Column, when `otherwise()` not used and none of the conditions met it assigns None (Null) value. Usage would be like `when(condition).otherwise(default)`.\r\n",
    "\r\n",
    "`when()` function take 2 parameters, first param takes a condition and second takes a literal value or Column, if condition evaluates to true then it returns a value from second param.\r\n",
    "\r\n",
    "The code below replaces the value of gender with a new derived value, when conditions are not matched, we are assigning \"\" a for null"
   ],
   "metadata": {}
  },
  {
   "cell_type": "code",
   "execution_count": 2,
   "source": [
    "from pyspark.sql.functions import when\r\n",
    "\r\n",
    "df2 = df.withColumn(\"new_gender\", when(df.gender == \"M\",\"Male\")\r\n",
    "                                 .when(df.gender == \"F\",\"Female\")\r\n",
    "                                 .when(df.gender.isNull() ,\"\")\r\n",
    "                                 .otherwise(df.gender))\r\n",
    "\r\n",
    "df2.show()"
   ],
   "outputs": [
    {
     "output_type": "stream",
     "name": "stdout",
     "text": [
      "+-------+------+------+----------+\n",
      "|   name|gender|salary|new_gender|\n",
      "+-------+------+------+----------+\n",
      "|  James|     M| 60000|      Male|\n",
      "|Michael|     M| 70000|      Male|\n",
      "| Robert|  null|400000|          |\n",
      "|  Maria|     F|500000|    Female|\n",
      "|    Jen|      |  null|          |\n",
      "+-------+------+------+----------+\n",
      "\n"
     ]
    }
   ],
   "metadata": {}
  },
  {
   "cell_type": "markdown",
   "source": [
    "Using `select()`"
   ],
   "metadata": {}
  },
  {
   "cell_type": "markdown",
   "source": [],
   "metadata": {}
  },
  {
   "cell_type": "code",
   "execution_count": 3,
   "source": [
    "from pyspark.sql.functions import col\r\n",
    "\r\n",
    "df2 = df.select(col(\"*\"),when(df.gender == \"M\",\"Male\")\r\n",
    "                        .when(df.gender == \"F\",\"Female\")\r\n",
    "                        .when(df.gender.isNull() ,\"\")\r\n",
    "                        .otherwise(df.gender).alias(\"new_gender\"))\r\n",
    "\r\n",
    "df2.show()"
   ],
   "outputs": [
    {
     "output_type": "stream",
     "name": "stdout",
     "text": [
      "+-------+------+------+----------+\n",
      "|   name|gender|salary|new_gender|\n",
      "+-------+------+------+----------+\n",
      "|  James|     M| 60000|      Male|\n",
      "|Michael|     M| 70000|      Male|\n",
      "| Robert|  null|400000|          |\n",
      "|  Maria|     F|500000|    Female|\n",
      "|    Jen|      |  null|          |\n",
      "+-------+------+------+----------+\n",
      "\n"
     ]
    }
   ],
   "metadata": {}
  },
  {
   "cell_type": "markdown",
   "source": [
    " ### PySpark SQL Case When on DataFrame\r\n",
    "  Case When statement is used to execute a sequence of conditions and returns a value when the first condition is met, similar to `SWITH` and `IF THEN ELSE` statements. \r\n",
    "  \r\n",
    "  Similarly, PySpark SQL Case When statement can be used on DataFrame, below are some of the examples of using with `withColumn()`, `select()`, `selectExpr()` utilizing `expr()` function.\r\n",
    "\r\n",
    "#### Syntax of SQL CASE WHEN ELSE END\r\n",
    "\r\n",
    "CASE\r\n",
    "    WHEN condition1 THEN result_value1\r\n",
    "    WHEN condition2 THEN result_value2\r\n",
    "    -----\r\n",
    "    -----\r\n",
    "    ELSE result\r\n",
    "END;\r\n",
    "\r\n",
    "* CASE is the start of the expression\r\n",
    "* Clause WHEN takes a condition, if condition true it returns a value from THEN\r\n",
    "* If the condition is false it goes to the next condition and so on.\r\n",
    "* If none of the condition matches, it returns a value from the ELSE clause.\r\n",
    "* END is to end the expression"
   ],
   "metadata": {}
  },
  {
   "cell_type": "code",
   "execution_count": 4,
   "source": [
    "from pyspark.sql.functions import expr, col\r\n",
    "\r\n",
    "#Using Case When on withColumn()\r\n",
    "df3 = df.withColumn(\"new_gender\", expr(\"CASE WHEN gender = 'M' THEN 'Male' \" + \r\n",
    "               \"WHEN gender = 'F' THEN 'Female' WHEN gender IS NULL THEN ''\" +\r\n",
    "               \"ELSE gender END\"))\r\n",
    "               \r\n",
    "df3.show(truncate=False)"
   ],
   "outputs": [
    {
     "output_type": "stream",
     "name": "stdout",
     "text": [
      "+-------+------+------+----------+\n",
      "|name   |gender|salary|new_gender|\n",
      "+-------+------+------+----------+\n",
      "|James  |M     |60000 |Male      |\n",
      "|Michael|M     |70000 |Male      |\n",
      "|Robert |null  |400000|          |\n",
      "|Maria  |F     |500000|Female    |\n",
      "|Jen    |      |null  |          |\n",
      "+-------+------+------+----------+\n",
      "\n"
     ]
    }
   ],
   "metadata": {}
  },
  {
   "cell_type": "code",
   "execution_count": 5,
   "source": [
    "df4 = df.select(col(\"*\"), expr(\"CASE WHEN gender = 'M' THEN 'Male' \" +\r\n",
    "           \"WHEN gender = 'F' THEN 'Female' WHEN gender IS NULL THEN ''\" +\r\n",
    "           \"ELSE gender END\").alias(\"new_gender\"))\r\n",
    "\r\n",
    "df4.show()           "
   ],
   "outputs": [
    {
     "output_type": "stream",
     "name": "stdout",
     "text": [
      "+-------+------+------+----------+\n",
      "|   name|gender|salary|new_gender|\n",
      "+-------+------+------+----------+\n",
      "|  James|     M| 60000|      Male|\n",
      "|Michael|     M| 70000|      Male|\n",
      "| Robert|  null|400000|          |\n",
      "|  Maria|     F|500000|    Female|\n",
      "|    Jen|      |  null|          |\n",
      "+-------+------+------+----------+\n",
      "\n"
     ]
    }
   ],
   "metadata": {}
  },
  {
   "cell_type": "markdown",
   "source": [
    "### Using Case When on SQL Expression\r\n",
    "You can also use Case When with SQL statement after creating a temporary view"
   ],
   "metadata": {}
  },
  {
   "cell_type": "markdown",
   "source": [
    "Using Cse When on select()"
   ],
   "metadata": {}
  },
  {
   "cell_type": "code",
   "execution_count": 16,
   "source": [
    "df.createOrReplaceTempView(\"EMP\")\r\n",
    "\r\n",
    "spark.sql(\"select name, gender, salary, CASE WHEN gender = 'M' THEN 'Male' \" + \r\n",
    "               \"WHEN gender = 'F' THEN 'Female' WHEN gender IS NULL THEN ''\" +\r\n",
    "              \"ELSE gender END as new_gender from EMP\").show()"
   ],
   "outputs": [
    {
     "output_type": "stream",
     "name": "stdout",
     "text": [
      "+-------+------+------+----------+\n",
      "|   name|gender|salary|new_gender|\n",
      "+-------+------+------+----------+\n",
      "|  James|     M| 60000|      Male|\n",
      "|Michael|     M| 70000|      Male|\n",
      "| Robert|  null|400000|          |\n",
      "|  Maria|     F|500000|    Female|\n",
      "|    Jen|      |  null|          |\n",
      "+-------+------+------+----------+\n",
      "\n"
     ]
    }
   ],
   "metadata": {}
  },
  {
   "cell_type": "markdown",
   "source": [],
   "metadata": {}
  },
  {
   "cell_type": "code",
   "execution_count": 29,
   "source": [
    "from pyspark.sql.functions import col, when\r\n",
    "               \r\n",
    "df5 = df.withColumn(\"new_gender\", when((col(\"gender\") == 'M') | (col(\"gender\") == 'F'), \"Straight\")\r\n",
    "                                .when(col(\"gender\") == 'null', \"unknown\")\r\n",
    "                                .otherwise(\"non-declared\"))\r\n",
    "               \r\n",
    "\r\n",
    "df5.show(truncate=False)"
   ],
   "outputs": [
    {
     "output_type": "stream",
     "name": "stdout",
     "text": [
      "+-------+------+------+------------+\n",
      "|name   |gender|salary|new_gender  |\n",
      "+-------+------+------+------------+\n",
      "|James  |M     |60000 |Straight    |\n",
      "|Michael|M     |70000 |Straight    |\n",
      "|Robert |null  |400000|non-declared|\n",
      "|Maria  |F     |500000|Straight    |\n",
      "|Jen    |      |null  |non-declared|\n",
      "+-------+------+------+------------+\n",
      "\n"
     ]
    }
   ],
   "metadata": {}
  },
  {
   "cell_type": "code",
   "execution_count": null,
   "source": [],
   "outputs": [],
   "metadata": {}
  }
 ],
 "metadata": {
  "orig_nbformat": 4,
  "language_info": {
   "name": "python",
   "version": "3.7.9",
   "mimetype": "text/x-python",
   "codemirror_mode": {
    "name": "ipython",
    "version": 3
   },
   "pygments_lexer": "ipython3",
   "nbconvert_exporter": "python",
   "file_extension": ".py"
  },
  "kernelspec": {
   "name": "python3",
   "display_name": "Python 3.7.9 64-bit"
  },
  "interpreter": {
   "hash": "53f430c64bcedf9ca6087360321ed0acb2c34d6a4cbf777bd2b0700d8a645f0d"
  }
 },
 "nbformat": 4,
 "nbformat_minor": 2
}