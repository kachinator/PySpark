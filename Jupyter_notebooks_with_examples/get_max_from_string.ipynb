{
 "cells": [
  {
   "cell_type": "code",
   "execution_count": null,
   "metadata": {},
   "outputs": [
    {
     "name": "stdout",
     "output_type": "stream",
     "text": [
      "root\n",
      " |-- Rate: string (nullable = true)\n",
      " |-- id: string (nullable = true)\n",
      " |-- Company: string (nullable = true)\n",
      "\n",
      "+-----+-------+--------------------------+\n",
      "|Rate |id     |Company                   |\n",
      "+-----+-------+--------------------------+\n",
      "|6.81%|2873377|Arioso Ltd                |\n",
      "|NULL |2933909|NULL                      |\n",
      "|5.17%|2933909|Willows Apartments        |\n",
      "|4.58%|2933909|Laurel Apartments         |\n",
      "|6.87%|2873377|Jefferson Crossing        |\n",
      "|NULL |2961963|Dollar General - Lisle    |\n",
      "|NULL |2961963|Dollar General - Windfield|\n",
      "|6.6% |2961963|NULL                      |\n",
      "|NULL |2873377|NULL                      |\n",
      "+-----+-------+--------------------------+\n",
      "\n"
     ]
    }
   ],
   "source": [
    "from pyspark.sql import SparkSession,Row\n",
    "from termcolor import cprint\n",
    "\n",
    "spark = SparkSession.builder.appName('max').getOrCreate()\n",
    "\n",
    "\n",
    "data = [\n",
    "        Row(id='73377', Rate='6.81%', Company='Arioso Ltd'),\n",
    "        Row(id='33909', Rate=None,    Company=None),\n",
    "        Row(id='33909', Rate='5.17%', Company='Willows Apartments'),\n",
    "        Row(id='33909', Rate='4.58%', Company='Laurel Apartments'),\n",
    "        Row(id='73377', Rate='6.87%', Company='Jefferson Crossing'),\n",
    "        Row(id='61963', Rate=None,    Company='Dollar General - Lisle'),\n",
    "        Row(id='61963', Rate=None,    Company='Dollar General - Windfield'),\n",
    "        Row(id='61963', Rate='6.6%',  Company=None),\n",
    "        Row(id='73377', Rate=None,    Company=None)]\n",
    "\n",
    "\n",
    "df=spark.createDataFrame(data)\n",
    "df.printSchema()\n",
    "df.show(truncate=False)\n"
   ]
  },
  {
   "cell_type": "code",
   "execution_count": 5,
   "metadata": {},
   "outputs": [],
   "source": [
    "df.createOrReplaceTempView(\"df_view\")"
   ]
  },
  {
   "cell_type": "code",
   "execution_count": 6,
   "metadata": {},
   "outputs": [
    {
     "name": "stdout",
     "output_type": "stream",
     "text": [
      "+---------+\n",
      "|max(Rate)|\n",
      "+---------+\n",
      "|    6.87%|\n",
      "+---------+\n",
      "\n"
     ]
    }
   ],
   "source": [
    "df2 = spark.sql(\"\"\" select MAX(Rate) from df_view\"\"\")\n",
    "df2.show()"
   ]
  },
  {
   "cell_type": "code",
   "execution_count": 8,
   "metadata": {},
   "outputs": [
    {
     "name": "stdout",
     "output_type": "stream",
     "text": [
      "+---------+\n",
      "|max(Rate)|\n",
      "+---------+\n",
      "|    6.87%|\n",
      "+---------+\n",
      "\n"
     ]
    }
   ],
   "source": [
    "from pyspark.sql.functions import max\n",
    "\n",
    "df.select(max(\"Rate\")).show()"
   ]
  },
  {
   "cell_type": "code",
   "execution_count": null,
   "metadata": {},
   "outputs": [],
   "source": []
  }
 ],
 "metadata": {
  "kernelspec": {
   "display_name": "Python 3",
   "language": "python",
   "name": "python3"
  },
  "language_info": {
   "codemirror_mode": {
    "name": "ipython",
    "version": 3
   },
   "file_extension": ".py",
   "mimetype": "text/x-python",
   "name": "python",
   "nbconvert_exporter": "python",
   "pygments_lexer": "ipython3",
   "version": "3.10.12"
  },
  "orig_nbformat": 4
 },
 "nbformat": 4,
 "nbformat_minor": 2
}
